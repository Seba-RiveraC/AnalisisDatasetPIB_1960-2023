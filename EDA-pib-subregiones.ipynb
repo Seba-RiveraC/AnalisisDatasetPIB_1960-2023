{
  "cells": [
    {
      "cell_type": "markdown",
      "id": "c9e0fbcf",
      "metadata": {
        "id": "c9e0fbcf"
      },
      "source": [
        "# EDA y PIB en el Tiempo — Subregiones del mundo (1960–2023)\n",
        "\n",
        "\n",
        "\n",
        "**Librerías:** pandas, numpy, matplotlib, seaborn, scikit-learn, statsmodels."
      ]
    },
    {
      "cell_type": "code",
      "execution_count": 1,
      "id": "31cd502c",
      "metadata": {
        "id": "31cd502c"
      },
      "outputs": [],
      "source": [
        "# Imports\n",
        "import numpy as np\n",
        "import pandas as pd\n",
        "import matplotlib.pyplot as plt\n",
        "import seaborn as sns\n",
        "from sklearn.linear_model import LinearRegression\n",
        "from sklearn.metrics import r2_score, mean_squared_error\n",
        "import statsmodels.api as sm\n",
        "\n",
        "pd.set_option('display.float_format', lambda x: f'{x:,.3f}')\n",
        "sns.set_context('talk')"
      ]
    },
    {
      "cell_type": "markdown",
      "id": "8d6bd9ca",
      "metadata": {
        "id": "8d6bd9ca"
      },
      "source": [
        "## Cargar dataset\n",
        "\n"
      ]
    },
    {
      "cell_type": "code",
      "execution_count": 2,
      "id": "ad1c7ed4",
      "metadata": {
        "colab": {
          "base_uri": "https://localhost:8080/",
          "height": 224
        },
        "id": "ad1c7ed4",
        "outputId": "4443db4b-17ce-48db-a08c-1c62186354c3"
      },
      "outputs": [
        {
          "output_type": "stream",
          "name": "stdout",
          "text": [
            "Registros cargados: 13760\n"
          ]
        },
        {
          "output_type": "execute_result",
          "data": {
            "text/plain": [
              "  country_code region_name                  sub_region_name  \\\n",
              "0          ABW    AMERICAS  LATIN AMERICA AND THE CARIBBEAN   \n",
              "1          ABW    AMERICAS  LATIN AMERICA AND THE CARIBBEAN   \n",
              "2          ABW    AMERICAS  LATIN AMERICA AND THE CARIBBEAN   \n",
              "3          ABW    AMERICAS  LATIN AMERICA AND THE CARIBBEAN   \n",
              "4          ABW    AMERICAS  LATIN AMERICA AND THE CARIBBEAN   \n",
              "\n",
              "  intermediate_region country_name  income_group  year  total_gdp  \\\n",
              "0           CARIBBEAN        ARUBA  INGRESO ALTO  1960      0.000   \n",
              "1           CARIBBEAN        ARUBA  INGRESO ALTO  1961      0.000   \n",
              "2           CARIBBEAN        ARUBA  INGRESO ALTO  1962      0.000   \n",
              "3           CARIBBEAN        ARUBA  INGRESO ALTO  1963      0.000   \n",
              "4           CARIBBEAN        ARUBA  INGRESO ALTO  1964      0.000   \n",
              "\n",
              "   total_gdp_million  gdp_variation  \n",
              "0              0.000          0.000  \n",
              "1              0.000          0.000  \n",
              "2              0.000          0.000  \n",
              "3              0.000          0.000  \n",
              "4              0.000          0.000  "
            ],
            "text/html": [
              "\n",
              "  <div id=\"df-b1858c97-ec4a-4d6c-9362-4f1f493243ca\" class=\"colab-df-container\">\n",
              "    <div>\n",
              "<style scoped>\n",
              "    .dataframe tbody tr th:only-of-type {\n",
              "        vertical-align: middle;\n",
              "    }\n",
              "\n",
              "    .dataframe tbody tr th {\n",
              "        vertical-align: top;\n",
              "    }\n",
              "\n",
              "    .dataframe thead th {\n",
              "        text-align: right;\n",
              "    }\n",
              "</style>\n",
              "<table border=\"1\" class=\"dataframe\">\n",
              "  <thead>\n",
              "    <tr style=\"text-align: right;\">\n",
              "      <th></th>\n",
              "      <th>country_code</th>\n",
              "      <th>region_name</th>\n",
              "      <th>sub_region_name</th>\n",
              "      <th>intermediate_region</th>\n",
              "      <th>country_name</th>\n",
              "      <th>income_group</th>\n",
              "      <th>year</th>\n",
              "      <th>total_gdp</th>\n",
              "      <th>total_gdp_million</th>\n",
              "      <th>gdp_variation</th>\n",
              "    </tr>\n",
              "  </thead>\n",
              "  <tbody>\n",
              "    <tr>\n",
              "      <th>0</th>\n",
              "      <td>ABW</td>\n",
              "      <td>AMERICAS</td>\n",
              "      <td>LATIN AMERICA AND THE CARIBBEAN</td>\n",
              "      <td>CARIBBEAN</td>\n",
              "      <td>ARUBA</td>\n",
              "      <td>INGRESO ALTO</td>\n",
              "      <td>1960</td>\n",
              "      <td>0.000</td>\n",
              "      <td>0.000</td>\n",
              "      <td>0.000</td>\n",
              "    </tr>\n",
              "    <tr>\n",
              "      <th>1</th>\n",
              "      <td>ABW</td>\n",
              "      <td>AMERICAS</td>\n",
              "      <td>LATIN AMERICA AND THE CARIBBEAN</td>\n",
              "      <td>CARIBBEAN</td>\n",
              "      <td>ARUBA</td>\n",
              "      <td>INGRESO ALTO</td>\n",
              "      <td>1961</td>\n",
              "      <td>0.000</td>\n",
              "      <td>0.000</td>\n",
              "      <td>0.000</td>\n",
              "    </tr>\n",
              "    <tr>\n",
              "      <th>2</th>\n",
              "      <td>ABW</td>\n",
              "      <td>AMERICAS</td>\n",
              "      <td>LATIN AMERICA AND THE CARIBBEAN</td>\n",
              "      <td>CARIBBEAN</td>\n",
              "      <td>ARUBA</td>\n",
              "      <td>INGRESO ALTO</td>\n",
              "      <td>1962</td>\n",
              "      <td>0.000</td>\n",
              "      <td>0.000</td>\n",
              "      <td>0.000</td>\n",
              "    </tr>\n",
              "    <tr>\n",
              "      <th>3</th>\n",
              "      <td>ABW</td>\n",
              "      <td>AMERICAS</td>\n",
              "      <td>LATIN AMERICA AND THE CARIBBEAN</td>\n",
              "      <td>CARIBBEAN</td>\n",
              "      <td>ARUBA</td>\n",
              "      <td>INGRESO ALTO</td>\n",
              "      <td>1963</td>\n",
              "      <td>0.000</td>\n",
              "      <td>0.000</td>\n",
              "      <td>0.000</td>\n",
              "    </tr>\n",
              "    <tr>\n",
              "      <th>4</th>\n",
              "      <td>ABW</td>\n",
              "      <td>AMERICAS</td>\n",
              "      <td>LATIN AMERICA AND THE CARIBBEAN</td>\n",
              "      <td>CARIBBEAN</td>\n",
              "      <td>ARUBA</td>\n",
              "      <td>INGRESO ALTO</td>\n",
              "      <td>1964</td>\n",
              "      <td>0.000</td>\n",
              "      <td>0.000</td>\n",
              "      <td>0.000</td>\n",
              "    </tr>\n",
              "  </tbody>\n",
              "</table>\n",
              "</div>\n",
              "    <div class=\"colab-df-buttons\">\n",
              "\n",
              "  <div class=\"colab-df-container\">\n",
              "    <button class=\"colab-df-convert\" onclick=\"convertToInteractive('df-b1858c97-ec4a-4d6c-9362-4f1f493243ca')\"\n",
              "            title=\"Convert this dataframe to an interactive table.\"\n",
              "            style=\"display:none;\">\n",
              "\n",
              "  <svg xmlns=\"http://www.w3.org/2000/svg\" height=\"24px\" viewBox=\"0 -960 960 960\">\n",
              "    <path d=\"M120-120v-720h720v720H120Zm60-500h600v-160H180v160Zm220 220h160v-160H400v160Zm0 220h160v-160H400v160ZM180-400h160v-160H180v160Zm440 0h160v-160H620v160ZM180-180h160v-160H180v160Zm440 0h160v-160H620v160Z\"/>\n",
              "  </svg>\n",
              "    </button>\n",
              "\n",
              "  <style>\n",
              "    .colab-df-container {\n",
              "      display:flex;\n",
              "      gap: 12px;\n",
              "    }\n",
              "\n",
              "    .colab-df-convert {\n",
              "      background-color: #E8F0FE;\n",
              "      border: none;\n",
              "      border-radius: 50%;\n",
              "      cursor: pointer;\n",
              "      display: none;\n",
              "      fill: #1967D2;\n",
              "      height: 32px;\n",
              "      padding: 0 0 0 0;\n",
              "      width: 32px;\n",
              "    }\n",
              "\n",
              "    .colab-df-convert:hover {\n",
              "      background-color: #E2EBFA;\n",
              "      box-shadow: 0px 1px 2px rgba(60, 64, 67, 0.3), 0px 1px 3px 1px rgba(60, 64, 67, 0.15);\n",
              "      fill: #174EA6;\n",
              "    }\n",
              "\n",
              "    .colab-df-buttons div {\n",
              "      margin-bottom: 4px;\n",
              "    }\n",
              "\n",
              "    [theme=dark] .colab-df-convert {\n",
              "      background-color: #3B4455;\n",
              "      fill: #D2E3FC;\n",
              "    }\n",
              "\n",
              "    [theme=dark] .colab-df-convert:hover {\n",
              "      background-color: #434B5C;\n",
              "      box-shadow: 0px 1px 3px 1px rgba(0, 0, 0, 0.15);\n",
              "      filter: drop-shadow(0px 1px 2px rgba(0, 0, 0, 0.3));\n",
              "      fill: #FFFFFF;\n",
              "    }\n",
              "  </style>\n",
              "\n",
              "    <script>\n",
              "      const buttonEl =\n",
              "        document.querySelector('#df-b1858c97-ec4a-4d6c-9362-4f1f493243ca button.colab-df-convert');\n",
              "      buttonEl.style.display =\n",
              "        google.colab.kernel.accessAllowed ? 'block' : 'none';\n",
              "\n",
              "      async function convertToInteractive(key) {\n",
              "        const element = document.querySelector('#df-b1858c97-ec4a-4d6c-9362-4f1f493243ca');\n",
              "        const dataTable =\n",
              "          await google.colab.kernel.invokeFunction('convertToInteractive',\n",
              "                                                    [key], {});\n",
              "        if (!dataTable) return;\n",
              "\n",
              "        const docLinkHtml = 'Like what you see? Visit the ' +\n",
              "          '<a target=\"_blank\" href=https://colab.research.google.com/notebooks/data_table.ipynb>data table notebook</a>'\n",
              "          + ' to learn more about interactive tables.';\n",
              "        element.innerHTML = '';\n",
              "        dataTable['output_type'] = 'display_data';\n",
              "        await google.colab.output.renderOutput(dataTable, element);\n",
              "        const docLink = document.createElement('div');\n",
              "        docLink.innerHTML = docLinkHtml;\n",
              "        element.appendChild(docLink);\n",
              "      }\n",
              "    </script>\n",
              "  </div>\n",
              "\n",
              "\n",
              "    <div id=\"df-03fe88aa-c7a4-41f9-9acb-28e3b65e9ff1\">\n",
              "      <button class=\"colab-df-quickchart\" onclick=\"quickchart('df-03fe88aa-c7a4-41f9-9acb-28e3b65e9ff1')\"\n",
              "                title=\"Suggest charts\"\n",
              "                style=\"display:none;\">\n",
              "\n",
              "<svg xmlns=\"http://www.w3.org/2000/svg\" height=\"24px\"viewBox=\"0 0 24 24\"\n",
              "     width=\"24px\">\n",
              "    <g>\n",
              "        <path d=\"M19 3H5c-1.1 0-2 .9-2 2v14c0 1.1.9 2 2 2h14c1.1 0 2-.9 2-2V5c0-1.1-.9-2-2-2zM9 17H7v-7h2v7zm4 0h-2V7h2v10zm4 0h-2v-4h2v4z\"/>\n",
              "    </g>\n",
              "</svg>\n",
              "      </button>\n",
              "\n",
              "<style>\n",
              "  .colab-df-quickchart {\n",
              "      --bg-color: #E8F0FE;\n",
              "      --fill-color: #1967D2;\n",
              "      --hover-bg-color: #E2EBFA;\n",
              "      --hover-fill-color: #174EA6;\n",
              "      --disabled-fill-color: #AAA;\n",
              "      --disabled-bg-color: #DDD;\n",
              "  }\n",
              "\n",
              "  [theme=dark] .colab-df-quickchart {\n",
              "      --bg-color: #3B4455;\n",
              "      --fill-color: #D2E3FC;\n",
              "      --hover-bg-color: #434B5C;\n",
              "      --hover-fill-color: #FFFFFF;\n",
              "      --disabled-bg-color: #3B4455;\n",
              "      --disabled-fill-color: #666;\n",
              "  }\n",
              "\n",
              "  .colab-df-quickchart {\n",
              "    background-color: var(--bg-color);\n",
              "    border: none;\n",
              "    border-radius: 50%;\n",
              "    cursor: pointer;\n",
              "    display: none;\n",
              "    fill: var(--fill-color);\n",
              "    height: 32px;\n",
              "    padding: 0;\n",
              "    width: 32px;\n",
              "  }\n",
              "\n",
              "  .colab-df-quickchart:hover {\n",
              "    background-color: var(--hover-bg-color);\n",
              "    box-shadow: 0 1px 2px rgba(60, 64, 67, 0.3), 0 1px 3px 1px rgba(60, 64, 67, 0.15);\n",
              "    fill: var(--button-hover-fill-color);\n",
              "  }\n",
              "\n",
              "  .colab-df-quickchart-complete:disabled,\n",
              "  .colab-df-quickchart-complete:disabled:hover {\n",
              "    background-color: var(--disabled-bg-color);\n",
              "    fill: var(--disabled-fill-color);\n",
              "    box-shadow: none;\n",
              "  }\n",
              "\n",
              "  .colab-df-spinner {\n",
              "    border: 2px solid var(--fill-color);\n",
              "    border-color: transparent;\n",
              "    border-bottom-color: var(--fill-color);\n",
              "    animation:\n",
              "      spin 1s steps(1) infinite;\n",
              "  }\n",
              "\n",
              "  @keyframes spin {\n",
              "    0% {\n",
              "      border-color: transparent;\n",
              "      border-bottom-color: var(--fill-color);\n",
              "      border-left-color: var(--fill-color);\n",
              "    }\n",
              "    20% {\n",
              "      border-color: transparent;\n",
              "      border-left-color: var(--fill-color);\n",
              "      border-top-color: var(--fill-color);\n",
              "    }\n",
              "    30% {\n",
              "      border-color: transparent;\n",
              "      border-left-color: var(--fill-color);\n",
              "      border-top-color: var(--fill-color);\n",
              "      border-right-color: var(--fill-color);\n",
              "    }\n",
              "    40% {\n",
              "      border-color: transparent;\n",
              "      border-right-color: var(--fill-color);\n",
              "      border-top-color: var(--fill-color);\n",
              "    }\n",
              "    60% {\n",
              "      border-color: transparent;\n",
              "      border-right-color: var(--fill-color);\n",
              "    }\n",
              "    80% {\n",
              "      border-color: transparent;\n",
              "      border-right-color: var(--fill-color);\n",
              "      border-bottom-color: var(--fill-color);\n",
              "    }\n",
              "    90% {\n",
              "      border-color: transparent;\n",
              "      border-bottom-color: var(--fill-color);\n",
              "    }\n",
              "  }\n",
              "</style>\n",
              "\n",
              "      <script>\n",
              "        async function quickchart(key) {\n",
              "          const quickchartButtonEl =\n",
              "            document.querySelector('#' + key + ' button');\n",
              "          quickchartButtonEl.disabled = true;  // To prevent multiple clicks.\n",
              "          quickchartButtonEl.classList.add('colab-df-spinner');\n",
              "          try {\n",
              "            const charts = await google.colab.kernel.invokeFunction(\n",
              "                'suggestCharts', [key], {});\n",
              "          } catch (error) {\n",
              "            console.error('Error during call to suggestCharts:', error);\n",
              "          }\n",
              "          quickchartButtonEl.classList.remove('colab-df-spinner');\n",
              "          quickchartButtonEl.classList.add('colab-df-quickchart-complete');\n",
              "        }\n",
              "        (() => {\n",
              "          let quickchartButtonEl =\n",
              "            document.querySelector('#df-03fe88aa-c7a4-41f9-9acb-28e3b65e9ff1 button');\n",
              "          quickchartButtonEl.style.display =\n",
              "            google.colab.kernel.accessAllowed ? 'block' : 'none';\n",
              "        })();\n",
              "      </script>\n",
              "    </div>\n",
              "\n",
              "    </div>\n",
              "  </div>\n"
            ],
            "application/vnd.google.colaboratory.intrinsic+json": {
              "type": "dataframe",
              "variable_name": "df",
              "summary": "{\n  \"name\": \"df\",\n  \"rows\": 13760,\n  \"fields\": [\n    {\n      \"column\": \"country_code\",\n      \"properties\": {\n        \"dtype\": \"category\",\n        \"num_unique_values\": 215,\n        \"samples\": [\n          \"UKR\",\n          \"ZAF\",\n          \"NAM\"\n        ],\n        \"semantic_type\": \"\",\n        \"description\": \"\"\n      }\n    },\n    {\n      \"column\": \"region_name\",\n      \"properties\": {\n        \"dtype\": \"category\",\n        \"num_unique_values\": 5,\n        \"samples\": [\n          \"ASIA\",\n          \"OCEANIA\",\n          \"AFRICA\"\n        ],\n        \"semantic_type\": \"\",\n        \"description\": \"\"\n      }\n    },\n    {\n      \"column\": \"sub_region_name\",\n      \"properties\": {\n        \"dtype\": \"category\",\n        \"num_unique_values\": 17,\n        \"samples\": [\n          \"LATIN AMERICA AND THE CARIBBEAN\",\n          \"SOUTHERN ASIA\",\n          \"POLYNESIA\"\n        ],\n        \"semantic_type\": \"\",\n        \"description\": \"\"\n      }\n    },\n    {\n      \"column\": \"intermediate_region\",\n      \"properties\": {\n        \"dtype\": \"category\",\n        \"num_unique_values\": 8,\n        \"samples\": [\n          \"NO DATA\",\n          \"WESTERN AFRICA\",\n          \"CARIBBEAN\"\n        ],\n        \"semantic_type\": \"\",\n        \"description\": \"\"\n      }\n    },\n    {\n      \"column\": \"country_name\",\n      \"properties\": {\n        \"dtype\": \"category\",\n        \"num_unique_values\": 215,\n        \"samples\": [\n          \"UKRAINE\",\n          \"SOUTH AFRICA\",\n          \"NAMIBIA\"\n        ],\n        \"semantic_type\": \"\",\n        \"description\": \"\"\n      }\n    },\n    {\n      \"column\": \"income_group\",\n      \"properties\": {\n        \"dtype\": \"category\",\n        \"num_unique_values\": 5,\n        \"samples\": [\n          \"PA\\u00cdSES DE INGRESO BAJO\",\n          \"NO CLASIFICADO\",\n          \"PA\\u00cdSES DE INGRESO MEDIANO BAJO\"\n        ],\n        \"semantic_type\": \"\",\n        \"description\": \"\"\n      }\n    },\n    {\n      \"column\": \"year\",\n      \"properties\": {\n        \"dtype\": \"number\",\n        \"std\": 18,\n        \"min\": 1960,\n        \"max\": 2023,\n        \"num_unique_values\": 64,\n        \"samples\": [\n          2012,\n          2018,\n          1960\n        ],\n        \"semantic_type\": \"\",\n        \"description\": \"\"\n      }\n    },\n    {\n      \"column\": \"total_gdp\",\n      \"properties\": {\n        \"dtype\": \"number\",\n        \"std\": 956117538176.2157,\n        \"min\": 0.0,\n        \"max\": 27720709000000.0,\n        \"num_unique_values\": 11312,\n        \"samples\": [\n          20650000000.0,\n          394000000.0,\n          49433333.3333333\n        ],\n        \"semantic_type\": \"\",\n        \"description\": \"\"\n      }\n    },\n    {\n      \"column\": \"total_gdp_million\",\n      \"properties\": {\n        \"dtype\": \"number\",\n        \"std\": 956117.5381762001,\n        \"min\": 0.0,\n        \"max\": 27720709.0,\n        \"num_unique_values\": 11312,\n        \"samples\": [\n          20650.0,\n          394.0,\n          49.4333333333333\n        ],\n        \"semantic_type\": \"\",\n        \"description\": \"\"\n      }\n    },\n    {\n      \"column\": \"gdp_variation\",\n      \"properties\": {\n        \"dtype\": \"number\",\n        \"std\": 856312.0544336664,\n        \"min\": -64.047106973488,\n        \"max\": 100447998.405676,\n        \"num_unique_values\": 10952,\n        \"samples\": [\n          3.10289874199981,\n          4.04492943933556,\n          1.05145864722348\n        ],\n        \"semantic_type\": \"\",\n        \"description\": \"\"\n      }\n    }\n  ]\n}"
            }
          },
          "metadata": {},
          "execution_count": 2
        }
      ],
      "source": [
        "# Enlace al dataset en GitHub (ejemplo, reemplazar con el tuyo)\n",
        "url = \"https://raw.githubusercontent.com/Seba-RiveraC/AnalisisDatasetPIB_1960-2023/refs/heads/main/countries_gdp_hist.csv\"\n",
        "\n",
        "df = pd.read_csv(url, sep=\";\")\n",
        "print(\"Registros cargados:\", len(df))\n",
        "df.head()"
      ]
    },
    {
      "cell_type": "markdown",
      "id": "24f0e4f0",
      "metadata": {
        "id": "24f0e4f0"
      },
      "source": [
        "## Analisis inicial de los datos"
      ]
    },
    {
      "cell_type": "code",
      "execution_count": 3,
      "id": "717aa78d",
      "metadata": {
        "colab": {
          "base_uri": "https://localhost:8080/"
        },
        "id": "717aa78d",
        "outputId": "de5db9d0-cddb-41ea-bdea-2af126350178"
      },
      "outputs": [
        {
          "output_type": "stream",
          "name": "stdout",
          "text": [
            "Años: 1960 - 2023\n",
            "Países únicos: 215\n",
            "Subregiones únicas: 17\n",
            "Income groups únicos: 5\n",
            "<class 'pandas.core.frame.DataFrame'>\n",
            "RangeIndex: 13760 entries, 0 to 13759\n",
            "Data columns (total 10 columns):\n",
            " #   Column               Non-Null Count  Dtype  \n",
            "---  ------               --------------  -----  \n",
            " 0   country_code         13760 non-null  object \n",
            " 1   region_name          13760 non-null  object \n",
            " 2   sub_region_name      13760 non-null  object \n",
            " 3   intermediate_region  13760 non-null  object \n",
            " 4   country_name         13760 non-null  object \n",
            " 5   income_group         13760 non-null  object \n",
            " 6   year                 13760 non-null  int64  \n",
            " 7   total_gdp            13760 non-null  float64\n",
            " 8   total_gdp_million    13760 non-null  float64\n",
            " 9   gdp_variation        13760 non-null  float64\n",
            "dtypes: float64(3), int64(1), object(6)\n",
            "memory usage: 1.0+ MB\n"
          ]
        }
      ],
      "source": [
        "print(\"Años:\", df['year'].min(), \"-\", df['year'].max())\n",
        "print(\"Países únicos:\", df['country_name'].nunique())\n",
        "print(\"Subregiones únicas:\", df['sub_region_name'].nunique())\n",
        "print(\"Income groups únicos:\", df['income_group'].nunique())\n",
        "df.info()"
      ]
    },
    {
      "cell_type": "markdown",
      "id": "959756b7",
      "metadata": {
        "id": "959756b7"
      },
      "source": [
        "## Parte A — Chile (Intro de medidas estadísticas)\n",
        "\n"
      ]
    },
    {
      "cell_type": "code",
      "execution_count": 4,
      "id": "1726e526",
      "metadata": {
        "colab": {
          "base_uri": "https://localhost:8080/",
          "height": 206
        },
        "id": "1726e526",
        "outputId": "96625ad2-195f-4cf5-e5e0-da2159cadc66"
      },
      "outputs": [
        {
          "output_type": "execute_result",
          "data": {
            "text/plain": [
              "      year         total_gdp\n",
              "2176  1960 4,110,000,000.000\n",
              "2177  1961 4,829,238,095.238\n",
              "2178  1962 5,631,285,444.234\n",
              "2179  1963 5,591,307,028.360\n",
              "2180  1964 5,964,195,925.444"
            ],
            "text/html": [
              "\n",
              "  <div id=\"df-2db70d38-3b8e-4b3d-921a-83eaf0e4db2f\" class=\"colab-df-container\">\n",
              "    <div>\n",
              "<style scoped>\n",
              "    .dataframe tbody tr th:only-of-type {\n",
              "        vertical-align: middle;\n",
              "    }\n",
              "\n",
              "    .dataframe tbody tr th {\n",
              "        vertical-align: top;\n",
              "    }\n",
              "\n",
              "    .dataframe thead th {\n",
              "        text-align: right;\n",
              "    }\n",
              "</style>\n",
              "<table border=\"1\" class=\"dataframe\">\n",
              "  <thead>\n",
              "    <tr style=\"text-align: right;\">\n",
              "      <th></th>\n",
              "      <th>year</th>\n",
              "      <th>total_gdp</th>\n",
              "    </tr>\n",
              "  </thead>\n",
              "  <tbody>\n",
              "    <tr>\n",
              "      <th>2176</th>\n",
              "      <td>1960</td>\n",
              "      <td>4,110,000,000.000</td>\n",
              "    </tr>\n",
              "    <tr>\n",
              "      <th>2177</th>\n",
              "      <td>1961</td>\n",
              "      <td>4,829,238,095.238</td>\n",
              "    </tr>\n",
              "    <tr>\n",
              "      <th>2178</th>\n",
              "      <td>1962</td>\n",
              "      <td>5,631,285,444.234</td>\n",
              "    </tr>\n",
              "    <tr>\n",
              "      <th>2179</th>\n",
              "      <td>1963</td>\n",
              "      <td>5,591,307,028.360</td>\n",
              "    </tr>\n",
              "    <tr>\n",
              "      <th>2180</th>\n",
              "      <td>1964</td>\n",
              "      <td>5,964,195,925.444</td>\n",
              "    </tr>\n",
              "  </tbody>\n",
              "</table>\n",
              "</div>\n",
              "    <div class=\"colab-df-buttons\">\n",
              "\n",
              "  <div class=\"colab-df-container\">\n",
              "    <button class=\"colab-df-convert\" onclick=\"convertToInteractive('df-2db70d38-3b8e-4b3d-921a-83eaf0e4db2f')\"\n",
              "            title=\"Convert this dataframe to an interactive table.\"\n",
              "            style=\"display:none;\">\n",
              "\n",
              "  <svg xmlns=\"http://www.w3.org/2000/svg\" height=\"24px\" viewBox=\"0 -960 960 960\">\n",
              "    <path d=\"M120-120v-720h720v720H120Zm60-500h600v-160H180v160Zm220 220h160v-160H400v160Zm0 220h160v-160H400v160ZM180-400h160v-160H180v160Zm440 0h160v-160H620v160ZM180-180h160v-160H180v160Zm440 0h160v-160H620v160Z\"/>\n",
              "  </svg>\n",
              "    </button>\n",
              "\n",
              "  <style>\n",
              "    .colab-df-container {\n",
              "      display:flex;\n",
              "      gap: 12px;\n",
              "    }\n",
              "\n",
              "    .colab-df-convert {\n",
              "      background-color: #E8F0FE;\n",
              "      border: none;\n",
              "      border-radius: 50%;\n",
              "      cursor: pointer;\n",
              "      display: none;\n",
              "      fill: #1967D2;\n",
              "      height: 32px;\n",
              "      padding: 0 0 0 0;\n",
              "      width: 32px;\n",
              "    }\n",
              "\n",
              "    .colab-df-convert:hover {\n",
              "      background-color: #E2EBFA;\n",
              "      box-shadow: 0px 1px 2px rgba(60, 64, 67, 0.3), 0px 1px 3px 1px rgba(60, 64, 67, 0.15);\n",
              "      fill: #174EA6;\n",
              "    }\n",
              "\n",
              "    .colab-df-buttons div {\n",
              "      margin-bottom: 4px;\n",
              "    }\n",
              "\n",
              "    [theme=dark] .colab-df-convert {\n",
              "      background-color: #3B4455;\n",
              "      fill: #D2E3FC;\n",
              "    }\n",
              "\n",
              "    [theme=dark] .colab-df-convert:hover {\n",
              "      background-color: #434B5C;\n",
              "      box-shadow: 0px 1px 3px 1px rgba(0, 0, 0, 0.15);\n",
              "      filter: drop-shadow(0px 1px 2px rgba(0, 0, 0, 0.3));\n",
              "      fill: #FFFFFF;\n",
              "    }\n",
              "  </style>\n",
              "\n",
              "    <script>\n",
              "      const buttonEl =\n",
              "        document.querySelector('#df-2db70d38-3b8e-4b3d-921a-83eaf0e4db2f button.colab-df-convert');\n",
              "      buttonEl.style.display =\n",
              "        google.colab.kernel.accessAllowed ? 'block' : 'none';\n",
              "\n",
              "      async function convertToInteractive(key) {\n",
              "        const element = document.querySelector('#df-2db70d38-3b8e-4b3d-921a-83eaf0e4db2f');\n",
              "        const dataTable =\n",
              "          await google.colab.kernel.invokeFunction('convertToInteractive',\n",
              "                                                    [key], {});\n",
              "        if (!dataTable) return;\n",
              "\n",
              "        const docLinkHtml = 'Like what you see? Visit the ' +\n",
              "          '<a target=\"_blank\" href=https://colab.research.google.com/notebooks/data_table.ipynb>data table notebook</a>'\n",
              "          + ' to learn more about interactive tables.';\n",
              "        element.innerHTML = '';\n",
              "        dataTable['output_type'] = 'display_data';\n",
              "        await google.colab.output.renderOutput(dataTable, element);\n",
              "        const docLink = document.createElement('div');\n",
              "        docLink.innerHTML = docLinkHtml;\n",
              "        element.appendChild(docLink);\n",
              "      }\n",
              "    </script>\n",
              "  </div>\n",
              "\n",
              "\n",
              "    <div id=\"df-27e5e85d-ac57-4ef5-98e8-2e5de305c23d\">\n",
              "      <button class=\"colab-df-quickchart\" onclick=\"quickchart('df-27e5e85d-ac57-4ef5-98e8-2e5de305c23d')\"\n",
              "                title=\"Suggest charts\"\n",
              "                style=\"display:none;\">\n",
              "\n",
              "<svg xmlns=\"http://www.w3.org/2000/svg\" height=\"24px\"viewBox=\"0 0 24 24\"\n",
              "     width=\"24px\">\n",
              "    <g>\n",
              "        <path d=\"M19 3H5c-1.1 0-2 .9-2 2v14c0 1.1.9 2 2 2h14c1.1 0 2-.9 2-2V5c0-1.1-.9-2-2-2zM9 17H7v-7h2v7zm4 0h-2V7h2v10zm4 0h-2v-4h2v4z\"/>\n",
              "    </g>\n",
              "</svg>\n",
              "      </button>\n",
              "\n",
              "<style>\n",
              "  .colab-df-quickchart {\n",
              "      --bg-color: #E8F0FE;\n",
              "      --fill-color: #1967D2;\n",
              "      --hover-bg-color: #E2EBFA;\n",
              "      --hover-fill-color: #174EA6;\n",
              "      --disabled-fill-color: #AAA;\n",
              "      --disabled-bg-color: #DDD;\n",
              "  }\n",
              "\n",
              "  [theme=dark] .colab-df-quickchart {\n",
              "      --bg-color: #3B4455;\n",
              "      --fill-color: #D2E3FC;\n",
              "      --hover-bg-color: #434B5C;\n",
              "      --hover-fill-color: #FFFFFF;\n",
              "      --disabled-bg-color: #3B4455;\n",
              "      --disabled-fill-color: #666;\n",
              "  }\n",
              "\n",
              "  .colab-df-quickchart {\n",
              "    background-color: var(--bg-color);\n",
              "    border: none;\n",
              "    border-radius: 50%;\n",
              "    cursor: pointer;\n",
              "    display: none;\n",
              "    fill: var(--fill-color);\n",
              "    height: 32px;\n",
              "    padding: 0;\n",
              "    width: 32px;\n",
              "  }\n",
              "\n",
              "  .colab-df-quickchart:hover {\n",
              "    background-color: var(--hover-bg-color);\n",
              "    box-shadow: 0 1px 2px rgba(60, 64, 67, 0.3), 0 1px 3px 1px rgba(60, 64, 67, 0.15);\n",
              "    fill: var(--button-hover-fill-color);\n",
              "  }\n",
              "\n",
              "  .colab-df-quickchart-complete:disabled,\n",
              "  .colab-df-quickchart-complete:disabled:hover {\n",
              "    background-color: var(--disabled-bg-color);\n",
              "    fill: var(--disabled-fill-color);\n",
              "    box-shadow: none;\n",
              "  }\n",
              "\n",
              "  .colab-df-spinner {\n",
              "    border: 2px solid var(--fill-color);\n",
              "    border-color: transparent;\n",
              "    border-bottom-color: var(--fill-color);\n",
              "    animation:\n",
              "      spin 1s steps(1) infinite;\n",
              "  }\n",
              "\n",
              "  @keyframes spin {\n",
              "    0% {\n",
              "      border-color: transparent;\n",
              "      border-bottom-color: var(--fill-color);\n",
              "      border-left-color: var(--fill-color);\n",
              "    }\n",
              "    20% {\n",
              "      border-color: transparent;\n",
              "      border-left-color: var(--fill-color);\n",
              "      border-top-color: var(--fill-color);\n",
              "    }\n",
              "    30% {\n",
              "      border-color: transparent;\n",
              "      border-left-color: var(--fill-color);\n",
              "      border-top-color: var(--fill-color);\n",
              "      border-right-color: var(--fill-color);\n",
              "    }\n",
              "    40% {\n",
              "      border-color: transparent;\n",
              "      border-right-color: var(--fill-color);\n",
              "      border-top-color: var(--fill-color);\n",
              "    }\n",
              "    60% {\n",
              "      border-color: transparent;\n",
              "      border-right-color: var(--fill-color);\n",
              "    }\n",
              "    80% {\n",
              "      border-color: transparent;\n",
              "      border-right-color: var(--fill-color);\n",
              "      border-bottom-color: var(--fill-color);\n",
              "    }\n",
              "    90% {\n",
              "      border-color: transparent;\n",
              "      border-bottom-color: var(--fill-color);\n",
              "    }\n",
              "  }\n",
              "</style>\n",
              "\n",
              "      <script>\n",
              "        async function quickchart(key) {\n",
              "          const quickchartButtonEl =\n",
              "            document.querySelector('#' + key + ' button');\n",
              "          quickchartButtonEl.disabled = true;  // To prevent multiple clicks.\n",
              "          quickchartButtonEl.classList.add('colab-df-spinner');\n",
              "          try {\n",
              "            const charts = await google.colab.kernel.invokeFunction(\n",
              "                'suggestCharts', [key], {});\n",
              "          } catch (error) {\n",
              "            console.error('Error during call to suggestCharts:', error);\n",
              "          }\n",
              "          quickchartButtonEl.classList.remove('colab-df-spinner');\n",
              "          quickchartButtonEl.classList.add('colab-df-quickchart-complete');\n",
              "        }\n",
              "        (() => {\n",
              "          let quickchartButtonEl =\n",
              "            document.querySelector('#df-27e5e85d-ac57-4ef5-98e8-2e5de305c23d button');\n",
              "          quickchartButtonEl.style.display =\n",
              "            google.colab.kernel.accessAllowed ? 'block' : 'none';\n",
              "        })();\n",
              "      </script>\n",
              "    </div>\n",
              "\n",
              "    </div>\n",
              "  </div>\n"
            ],
            "application/vnd.google.colaboratory.intrinsic+json": {
              "type": "dataframe",
              "summary": "{\n  \"name\": \"chile[['year','total_gdp']]\",\n  \"rows\": 5,\n  \"fields\": [\n    {\n      \"column\": \"year\",\n      \"properties\": {\n        \"dtype\": \"number\",\n        \"std\": 1,\n        \"min\": 1960,\n        \"max\": 1964,\n        \"num_unique_values\": 5,\n        \"samples\": [\n          1961,\n          1964,\n          1962\n        ],\n        \"semantic_type\": \"\",\n        \"description\": \"\"\n      }\n    },\n    {\n      \"column\": \"total_gdp\",\n      \"properties\": {\n        \"dtype\": \"number\",\n        \"std\": 749251558.5468018,\n        \"min\": 4110000000.0,\n        \"max\": 5964195925.4443,\n        \"num_unique_values\": 5,\n        \"samples\": [\n          4829238095.2381,\n          5964195925.4443,\n          5631285444.2344\n        ],\n        \"semantic_type\": \"\",\n        \"description\": \"\"\n      }\n    }\n  ]\n}"
            }
          },
          "metadata": {},
          "execution_count": 4
        }
      ],
      "source": [
        "chile = df[df['country_name']==\"CHILE\"].copy().sort_values('year')\n",
        "chile[['year','total_gdp']].head()"
      ]
    },
    {
      "cell_type": "markdown",
      "id": "e0b20113",
      "metadata": {
        "id": "e0b20113"
      },
      "source": [
        "### Media aritmética del PIB (Chile)"
      ]
    },
    {
      "cell_type": "code",
      "execution_count": 5,
      "id": "beb5436d",
      "metadata": {
        "colab": {
          "base_uri": "https://localhost:8080/"
        },
        "id": "beb5436d",
        "outputId": "4eb219d8-f826-4409-fe76-897474e8e957"
      },
      "outputs": [
        {
          "output_type": "execute_result",
          "data": {
            "text/plain": [
              "np.float64(94857747431.56198)"
            ]
          },
          "metadata": {},
          "execution_count": 5
        }
      ],
      "source": [
        "chile['total_gdp'].mean()"
      ]
    },
    {
      "cell_type": "markdown",
      "id": "0d16fa25",
      "metadata": {
        "id": "0d16fa25"
      },
      "source": [
        "### *Media ponderada* del PIB (Chile)\n",
        "\n"
      ]
    },
    {
      "cell_type": "code",
      "execution_count": 6,
      "id": "4ff6af22",
      "metadata": {
        "colab": {
          "base_uri": "https://localhost:8080/"
        },
        "id": "4ff6af22",
        "outputId": "2e22fbdd-ef4c-40db-fd92-8f241dc0c0c5"
      },
      "outputs": [
        {
          "output_type": "execute_result",
          "data": {
            "text/plain": [
              "np.float64(147935807890.78748)"
            ]
          },
          "metadata": {},
          "execution_count": 6
        }
      ],
      "source": [
        "weights = chile['year'] - chile['year'].min() + 1\n",
        "np.average(chile['total_gdp'], weights=weights)"
      ]
    },
    {
      "cell_type": "markdown",
      "id": "c5ce62a7",
      "metadata": {
        "id": "c5ce62a7"
      },
      "source": [
        "### Moda del PIB (Chile)"
      ]
    },
    {
      "cell_type": "code",
      "execution_count": 7,
      "id": "c96899e9",
      "metadata": {
        "colab": {
          "base_uri": "https://localhost:8080/"
        },
        "id": "c96899e9",
        "outputId": "0d0686a8-7261-4ee8-f4bd-86b615c3c3a6"
      },
      "outputs": [
        {
          "output_type": "execute_result",
          "data": {
            "text/plain": [
              "np.float64(4110000000.0)"
            ]
          },
          "metadata": {},
          "execution_count": 7
        }
      ],
      "source": [
        "mode_vals = chile['total_gdp'].mode()\n",
        "mode_vals.iloc[0] if len(mode_vals)>0 else np.nan"
      ]
    },
    {
      "cell_type": "markdown",
      "id": "05a9168b",
      "metadata": {
        "id": "05a9168b"
      },
      "source": [
        "### Mediana del PIB (Chile)"
      ]
    },
    {
      "cell_type": "code",
      "execution_count": 8,
      "id": "dab5e4e8",
      "metadata": {
        "colab": {
          "base_uri": "https://localhost:8080/"
        },
        "id": "dab5e4e8",
        "outputId": "08c3ae2a-d7e5-47a2-8a97-dcf83a023156"
      },
      "outputs": [
        {
          "output_type": "execute_result",
          "data": {
            "text/plain": [
              "41897898390.0394"
            ]
          },
          "metadata": {},
          "execution_count": 8
        }
      ],
      "source": [
        "chile['total_gdp'].median()"
      ]
    },
    {
      "cell_type": "markdown",
      "id": "32151adf",
      "metadata": {
        "id": "32151adf"
      },
      "source": [
        "### Rango (máximo - mínimo) del PIB (Chile)"
      ]
    },
    {
      "cell_type": "code",
      "execution_count": 9,
      "id": "3dce2e56",
      "metadata": {
        "colab": {
          "base_uri": "https://localhost:8080/"
        },
        "id": "3dce2e56",
        "outputId": "62e672c0-879c-49d8-b066-838fda978227"
      },
      "outputs": [
        {
          "output_type": "execute_result",
          "data": {
            "text/plain": [
              "331423331669.219"
            ]
          },
          "metadata": {},
          "execution_count": 9
        }
      ],
      "source": [
        "chile['total_gdp'].max() - chile['total_gdp'].min()"
      ]
    },
    {
      "cell_type": "markdown",
      "id": "6f83ad8f",
      "metadata": {
        "id": "6f83ad8f"
      },
      "source": [
        "### Varianza del PIB (Chile)"
      ]
    },
    {
      "cell_type": "code",
      "execution_count": 10,
      "id": "f0f4640a",
      "metadata": {
        "colab": {
          "base_uri": "https://localhost:8080/"
        },
        "id": "f0f4640a",
        "outputId": "02e5e5ab-a1db-49ff-8ac7-d22e01836969"
      },
      "outputs": [
        {
          "output_type": "execute_result",
          "data": {
            "text/plain": [
              "1.0989072978952367e+22"
            ]
          },
          "metadata": {},
          "execution_count": 10
        }
      ],
      "source": [
        "chile['total_gdp'].var(ddof=1)"
      ]
    },
    {
      "cell_type": "markdown",
      "id": "f6b492c9",
      "metadata": {
        "id": "f6b492c9"
      },
      "source": [
        "### Desviación estándar del PIB (Chile)"
      ]
    },
    {
      "cell_type": "code",
      "execution_count": 11,
      "id": "cf055e67",
      "metadata": {
        "colab": {
          "base_uri": "https://localhost:8080/"
        },
        "id": "cf055e67",
        "outputId": "809f92b7-2cfe-41e7-c69d-213109f4f0ae"
      },
      "outputs": [
        {
          "output_type": "execute_result",
          "data": {
            "text/plain": [
              "104828779344.95073"
            ]
          },
          "metadata": {},
          "execution_count": 11
        }
      ],
      "source": [
        "chile['total_gdp'].std(ddof=1)"
      ]
    },
    {
      "cell_type": "markdown",
      "id": "0b3b3b61",
      "metadata": {
        "id": "0b3b3b61"
      },
      "source": [
        "### Coeficiente de variación (Chile)"
      ]
    },
    {
      "cell_type": "code",
      "execution_count": 12,
      "id": "5c5d29be",
      "metadata": {
        "id": "5c5d29be",
        "colab": {
          "base_uri": "https://localhost:8080/"
        },
        "outputId": "018b7031-242b-4533-af04-25003a244ac8"
      },
      "outputs": [
        {
          "output_type": "execute_result",
          "data": {
            "text/plain": [
              "np.float64(1.1051156303345981)"
            ]
          },
          "metadata": {},
          "execution_count": 12
        }
      ],
      "source": [
        "(chile['total_gdp'].std(ddof=1) / chile['total_gdp'].mean())"
      ]
    },
    {
      "cell_type": "markdown",
      "id": "29c0eb10",
      "metadata": {
        "id": "29c0eb10"
      },
      "source": [
        "### Rango intercuartílico (IQR) — Chile"
      ]
    },
    {
      "cell_type": "code",
      "execution_count": 13,
      "id": "441c22f8",
      "metadata": {
        "id": "441c22f8",
        "colab": {
          "base_uri": "https://localhost:8080/"
        },
        "outputId": "47a391d7-6392-41da-d4d4-3910a8c442d6"
      },
      "outputs": [
        {
          "output_type": "execute_result",
          "data": {
            "text/plain": [
              "np.float64(156470766793.8639)"
            ]
          },
          "metadata": {},
          "execution_count": 13
        }
      ],
      "source": [
        "q75, q25 = np.percentile(chile['total_gdp'], [75,25])\n",
        "q75 - q25"
      ]
    },
    {
      "cell_type": "markdown",
      "id": "ec88a34d",
      "metadata": {
        "id": "ec88a34d"
      },
      "source": [
        "### Valores mínimo y máximo del PIB (Chile)"
      ]
    },
    {
      "cell_type": "code",
      "execution_count": 14,
      "id": "de8c6fe3",
      "metadata": {
        "id": "de8c6fe3",
        "colab": {
          "base_uri": "https://localhost:8080/"
        },
        "outputId": "26de4230-0570-492c-e423-576a6d40603f"
      },
      "outputs": [
        {
          "output_type": "execute_result",
          "data": {
            "text/plain": [
              "(4110000000.0, 335533331669.219)"
            ]
          },
          "metadata": {},
          "execution_count": 14
        }
      ],
      "source": [
        "chile['total_gdp'].min(), chile['total_gdp'].max()"
      ]
    },
    {
      "cell_type": "markdown",
      "id": "5e7ae39f",
      "metadata": {
        "id": "5e7ae39f"
      },
      "source": [
        "### Suma y Conteo de observaciones (Chile)"
      ]
    },
    {
      "cell_type": "code",
      "execution_count": 15,
      "id": "6c4f051e",
      "metadata": {
        "id": "6c4f051e",
        "colab": {
          "base_uri": "https://localhost:8080/"
        },
        "outputId": "e8173ef6-6ce8-4797-d740-31e6cb22f267"
      },
      "outputs": [
        {
          "output_type": "execute_result",
          "data": {
            "text/plain": [
              "(np.float64(6070895835619.967), np.int64(64))"
            ]
          },
          "metadata": {},
          "execution_count": 15
        }
      ],
      "source": [
        "chile['total_gdp'].sum(), chile['total_gdp'].count()"
      ]
    },
    {
      "cell_type": "markdown",
      "id": "6a2561b1",
      "metadata": {
        "id": "6a2561b1"
      },
      "source": [
        "### Visualizaciones (Chile): Histograma y Boxplot"
      ]
    },
    {
      "cell_type": "code",
      "execution_count": 16,
      "id": "61cfe4ae",
      "metadata": {
        "colab": {
          "base_uri": "https://localhost:8080/",
          "height": 790
        },
        "id": "61cfe4ae",
        "outputId": "d3277fe9-6941-44e6-b18d-5ab46fd6ad12"
      },
      "outputs": [
        {
          "output_type": "display_data",
          "data": {
            "text/plain": [
              "<Figure size 1000x400 with 1 Axes>"
            ],
            "image/png": "[encoded data removed]"
          },
          "metadata": {}
        },
        {
          "output_type": "display_data",
          "data": {
            "text/plain": [
              "<Figure size 1000x300 with 1 Axes>"
            ],
            "image/png": "[encoded data removed]"
          },
          "metadata": {}
        }
      ],
      "source": [
        "plt.figure(figsize=(10,4))\n",
        "plt.hist(chile['total_gdp'], bins=20)\n",
        "plt.title('Histograma PIB Chile')\n",
        "plt.xlabel('PIB total (USD)'); plt.ylabel('Frecuencia')\n",
        "plt.show()\n",
        "\n",
        "plt.figure(figsize=(10,3))\n",
        "plt.boxplot(chile['total_gdp'], vert=False)\n",
        "plt.title('Boxplot PIB Chile')\n",
        "plt.xlabel('PIB total (USD)')\n",
        "plt.show()"
      ]
    },
    {
      "cell_type": "markdown",
      "id": "c9eb50be",
      "metadata": {
        "id": "c9eb50be"
      },
      "source": [
        "# Parte B — **Subregiones** (Análisis principal)\n",
        "\n",
        "En esta sección se analiza por **subregión** y **año** para estudiar el crecimiento del PIB (suma del PIB de sus países).  \n",
        "\n"
      ]
    },
    {
      "cell_type": "code",
      "execution_count": 17,
      "id": "a670330f",
      "metadata": {
        "id": "a670330f",
        "colab": {
          "base_uri": "https://localhost:8080/",
          "height": 206
        },
        "outputId": "1b976336-aaea-4178-cff1-e2364aaef21d"
      },
      "outputs": [
        {
          "output_type": "execute_result",
          "data": {
            "text/plain": [
              "             sub_region_name  year          total_gdp\n",
              "0  AUSTRALIA AND NEW ZEALAND  1960 24,143,781,583.522\n",
              "1  AUSTRALIA AND NEW ZEALAND  1961 25,405,998,267.722\n",
              "2  AUSTRALIA AND NEW ZEALAND  1962 26,056,841,992.312\n",
              "3  AUSTRALIA AND NEW ZEALAND  1963 28,240,705,389.094\n",
              "4  AUSTRALIA AND NEW ZEALAND  1964 31,141,890,549.121"
            ],
            "text/html": [
              "\n",
              "  <div id=\"df-73f81708-2879-4df9-9b73-a80bf278678b\" class=\"colab-df-container\">\n",
              "    <div>\n",
              "<style scoped>\n",
              "    .dataframe tbody tr th:only-of-type {\n",
              "        vertical-align: middle;\n",
              "    }\n",
              "\n",
              "    .dataframe tbody tr th {\n",
              "        vertical-align: top;\n",
              "    }\n",
              "\n",
              "    .dataframe thead th {\n",
              "        text-align: right;\n",
              "    }\n",
              "</style>\n",
              "<table border=\"1\" class=\"dataframe\">\n",
              "  <thead>\n",
              "    <tr style=\"text-align: right;\">\n",
              "      <th></th>\n",
              "      <th>sub_region_name</th>\n",
              "      <th>year</th>\n",
              "      <th>total_gdp</th>\n",
              "    </tr>\n",
              "  </thead>\n",
              "  <tbody>\n",
              "    <tr>\n",
              "      <th>0</th>\n",
              "      <td>AUSTRALIA AND NEW ZEALAND</td>\n",
              "      <td>1960</td>\n",
              "      <td>24,143,781,583.522</td>\n",
              "    </tr>\n",
              "    <tr>\n",
              "      <th>1</th>\n",
              "      <td>AUSTRALIA AND NEW ZEALAND</td>\n",
              "      <td>1961</td>\n",
              "      <td>25,405,998,267.722</td>\n",
              "    </tr>\n",
              "    <tr>\n",
              "      <th>2</th>\n",
              "      <td>AUSTRALIA AND NEW ZEALAND</td>\n",
              "      <td>1962</td>\n",
              "      <td>26,056,841,992.312</td>\n",
              "    </tr>\n",
              "    <tr>\n",
              "      <th>3</th>\n",
              "      <td>AUSTRALIA AND NEW ZEALAND</td>\n",
              "      <td>1963</td>\n",
              "      <td>28,240,705,389.094</td>\n",
              "    </tr>\n",
              "    <tr>\n",
              "      <th>4</th>\n",
              "      <td>AUSTRALIA AND NEW ZEALAND</td>\n",
              "      <td>1964</td>\n",
              "      <td>31,141,890,549.121</td>\n",
              "    </tr>\n",
              "  </tbody>\n",
              "</table>\n",
              "</div>\n",
              "    <div class=\"colab-df-buttons\">\n",
              "\n",
              "  <div class=\"colab-df-container\">\n",
              "    <button class=\"colab-df-convert\" onclick=\"convertToInteractive('df-73f81708-2879-4df9-9b73-a80bf278678b')\"\n",
              "            title=\"Convert this dataframe to an interactive table.\"\n",
              "            style=\"display:none;\">\n",
              "\n",
              "  <svg xmlns=\"http://www.w3.org/2000/svg\" height=\"24px\" viewBox=\"0 -960 960 960\">\n",
              "    <path d=\"M120-120v-720h720v720H120Zm60-500h600v-160H180v160Zm220 220h160v-160H400v160Zm0 220h160v-160H400v160ZM180-400h160v-160H180v160Zm440 0h160v-160H620v160ZM180-180h160v-160H180v160Zm440 0h160v-160H620v160Z\"/>\n",
              "  </svg>\n",
              "    </button>\n",
              "\n",
              "  <style>\n",
              "    .colab-df-container {\n",
              "      display:flex;\n",
              "      gap: 12px;\n",
              "    }\n",
              "\n",
              "    .colab-df-convert {\n",
              "      background-color: #E8F0FE;\n",
              "      border: none;\n",
              "      border-radius: 50%;\n",
              "      cursor: pointer;\n",
              "      display: none;\n",
              "      fill: #1967D2;\n",
              "      height: 32px;\n",
              "      padding: 0 0 0 0;\n",
              "      width: 32px;\n",
              "    }\n",
              "\n",
              "    .colab-df-convert:hover {\n",
              "      background-color: #E2EBFA;\n",
              "      box-shadow: 0px 1px 2px rgba(60, 64, 67, 0.3), 0px 1px 3px 1px rgba(60, 64, 67, 0.15);\n",
              "      fill: #174EA6;\n",
              "    }\n",
              "\n",
              "    .colab-df-buttons div {\n",
              "      margin-bottom: 4px;\n",
              "    }\n",
              "\n",
              "    [theme=dark] .colab-df-convert {\n",
              "      background-color: #3B4455;\n",
              "      fill: #D2E3FC;\n",
              "    }\n",
              "\n",
              "    [theme=dark] .colab-df-convert:hover {\n",
              "      background-color: #434B5C;\n",
              "      box-shadow: 0px 1px 3px 1px rgba(0, 0, 0, 0.15);\n",
              "      filter: drop-shadow(0px 1px 2px rgba(0, 0, 0, 0.3));\n",
              "      fill: #FFFFFF;\n",
              "    }\n",
              "  </style>\n",
              "\n",
              "    <script>\n",
              "      const buttonEl =\n",
              "        document.querySelector('#df-73f81708-2879-4df9-9b73-a80bf278678b button.colab-df-convert');\n",
              "      buttonEl.style.display =\n",
              "        google.colab.kernel.accessAllowed ? 'block' : 'none';\n",
              "\n",
              "      async function convertToInteractive(key) {\n",
              "        const element = document.querySelector('#df-73f81708-2879-4df9-9b73-a80bf278678b');\n",
              "        const dataTable =\n",
              "          await google.colab.kernel.invokeFunction('convertToInteractive',\n",
              "                                                    [key], {});\n",
              "        if (!dataTable) return;\n",
              "\n",
              "        const docLinkHtml = 'Like what you see? Visit the ' +\n",
              "          '<a target=\"_blank\" href=https://colab.research.google.com/notebooks/data_table.ipynb>data table notebook</a>'\n",
              "          + ' to learn more about interactive tables.';\n",
              "        element.innerHTML = '';\n",
              "        dataTable['output_type'] = 'display_data';\n",
              "        await google.colab.output.renderOutput(dataTable, element);\n",
              "        const docLink = document.createElement('div');\n",
              "        docLink.innerHTML = docLinkHtml;\n",
              "        element.appendChild(docLink);\n",
              "      }\n",
              "    </script>\n",
              "  </div>\n",
              "\n",
              "\n",
              "    <div id=\"df-bc84d2b7-f069-45ac-9592-622c02156772\">\n",
              "      <button class=\"colab-df-quickchart\" onclick=\"quickchart('df-bc84d2b7-f069-45ac-9592-622c02156772')\"\n",
              "                title=\"Suggest charts\"\n",
              "                style=\"display:none;\">\n",
              "\n",
              "<svg xmlns=\"http://www.w3.org/2000/svg\" height=\"24px\"viewBox=\"0 0 24 24\"\n",
              "     width=\"24px\">\n",
              "    <g>\n",
              "        <path d=\"M19 3H5c-1.1 0-2 .9-2 2v14c0 1.1.9 2 2 2h14c1.1 0 2-.9 2-2V5c0-1.1-.9-2-2-2zM9 17H7v-7h2v7zm4 0h-2V7h2v10zm4 0h-2v-4h2v4z\"/>\n",
              "    </g>\n",
              "</svg>\n",
              "      </button>\n",
              "\n",
              "<style>\n",
              "  .colab-df-quickchart {\n",
              "      --bg-color: #E8F0FE;\n",
              "      --fill-color: #1967D2;\n",
              "      --hover-bg-color: #E2EBFA;\n",
              "      --hover-fill-color: #174EA6;\n",
              "      --disabled-fill-color: #AAA;\n",
              "      --disabled-bg-color: #DDD;\n",
              "  }\n",
              "\n",
              "  [theme=dark] .colab-df-quickchart {\n",
              "      --bg-color: #3B4455;\n",
              "      --fill-color: #D2E3FC;\n",
              "      --hover-bg-color: #434B5C;\n",
              "      --hover-fill-color: #FFFFFF;\n",
              "      --disabled-bg-color: #3B4455;\n",
              "      --disabled-fill-color: #666;\n",
              "  }\n",
              "\n",
              "  .colab-df-quickchart {\n",
              "    background-color: var(--bg-color);\n",
              "    border: none;\n",
              "    border-radius: 50%;\n",
              "    cursor: pointer;\n",
              "    display: none;\n",
              "    fill: var(--fill-color);\n",
              "    height: 32px;\n",
              "    padding: 0;\n",
              "    width: 32px;\n",
              "  }\n",
              "\n",
              "  .colab-df-quickchart:hover {\n",
              "    background-color: var(--hover-bg-color);\n",
              "    box-shadow: 0 1px 2px rgba(60, 64, 67, 0.3), 0 1px 3px 1px rgba(60, 64, 67, 0.15);\n",
              "    fill: var(--button-hover-fill-color);\n",
              "  }\n",
              "\n",
              "  .colab-df-quickchart-complete:disabled,\n",
              "  .colab-df-quickchart-complete:disabled:hover {\n",
              "    background-color: var(--disabled-bg-color);\n",
              "    fill: var(--disabled-fill-color);\n",
              "    box-shadow: none;\n",
              "  }\n",
              "\n",
              "  .colab-df-spinner {\n",
              "    border: 2px solid var(--fill-color);\n",
              "    border-color: transparent;\n",
              "    border-bottom-color: var(--fill-color);\n",
              "    animation:\n",
              "      spin 1s steps(1) infinite;\n",
              "  }\n",
              "\n",
              "  @keyframes spin {\n",
              "    0% {\n",
              "      border-color: transparent;\n",
              "      border-bottom-color: var(--fill-color);\n",
              "      border-left-color: var(--fill-color);\n",
              "    }\n",
              "    20% {\n",
              "      border-color: transparent;\n",
              "      border-left-color: var(--fill-color);\n",
              "      border-top-color: var(--fill-color);\n",
              "    }\n",
              "    30% {\n",
              "      border-color: transparent;\n",
              "      border-left-color: var(--fill-color);\n",
              "      border-top-color: var(--fill-color);\n",
              "      border-right-color: var(--fill-color);\n",
              "    }\n",
              "    40% {\n",
              "      border-color: transparent;\n",
              "      border-right-color: var(--fill-color);\n",
              "      border-top-color: var(--fill-color);\n",
              "    }\n",
              "    60% {\n",
              "      border-color: transparent;\n",
              "      border-right-color: var(--fill-color);\n",
              "    }\n",
              "    80% {\n",
              "      border-color: transparent;\n",
              "      border-right-color: var(--fill-color);\n",
              "      border-bottom-color: var(--fill-color);\n",
              "    }\n",
              "    90% {\n",
              "      border-color: transparent;\n",
              "      border-bottom-color: var(--fill-color);\n",
              "    }\n",
              "  }\n",
              "</style>\n",
              "\n",
              "      <script>\n",
              "        async function quickchart(key) {\n",
              "          const quickchartButtonEl =\n",
              "            document.querySelector('#' + key + ' button');\n",
              "          quickchartButtonEl.disabled = true;  // To prevent multiple clicks.\n",
              "          quickchartButtonEl.classList.add('colab-df-spinner');\n",
              "          try {\n",
              "            const charts = await google.colab.kernel.invokeFunction(\n",
              "                'suggestCharts', [key], {});\n",
              "          } catch (error) {\n",
              "            console.error('Error during call to suggestCharts:', error);\n",
              "          }\n",
              "          quickchartButtonEl.classList.remove('colab-df-spinner');\n",
              "          quickchartButtonEl.classList.add('colab-df-quickchart-complete');\n",
              "        }\n",
              "        (() => {\n",
              "          let quickchartButtonEl =\n",
              "            document.querySelector('#df-bc84d2b7-f069-45ac-9592-622c02156772 button');\n",
              "          quickchartButtonEl.style.display =\n",
              "            google.colab.kernel.accessAllowed ? 'block' : 'none';\n",
              "        })();\n",
              "      </script>\n",
              "    </div>\n",
              "\n",
              "    </div>\n",
              "  </div>\n"
            ],
            "application/vnd.google.colaboratory.intrinsic+json": {
              "type": "dataframe",
              "variable_name": "sub_df",
              "summary": "{\n  \"name\": \"sub_df\",\n  \"rows\": 1088,\n  \"fields\": [\n    {\n      \"column\": \"sub_region_name\",\n      \"properties\": {\n        \"dtype\": \"category\",\n        \"num_unique_values\": 17,\n        \"samples\": [\n          \"AUSTRALIA AND NEW ZEALAND\",\n          \"CENTRAL ASIA\",\n          \"MELANESIA\"\n        ],\n        \"semantic_type\": \"\",\n        \"description\": \"\"\n      }\n    },\n    {\n      \"column\": \"year\",\n      \"properties\": {\n        \"dtype\": \"number\",\n        \"std\": 18,\n        \"min\": 1960,\n        \"max\": 2023,\n        \"num_unique_values\": 64,\n        \"samples\": [\n          2012,\n          2018,\n          1960\n        ],\n        \"semantic_type\": \"\",\n        \"description\": \"\"\n      }\n    },\n    {\n      \"column\": \"total_gdp\",\n      \"properties\": {\n        \"dtype\": \"number\",\n        \"std\": 3901158008111.499,\n        \"min\": 0.0,\n        \"max\": 29871321614401.36,\n        \"num_unique_values\": 1039,\n        \"samples\": [\n          4852782479.066344,\n          991359575572.3098,\n          4807904587.434368\n        ],\n        \"semantic_type\": \"\",\n        \"description\": \"\"\n      }\n    }\n  ]\n}"
            }
          },
          "metadata": {},
          "execution_count": 17
        }
      ],
      "source": [
        "# Agregación por subregión y año\n",
        "sub_df = df.groupby(['sub_region_name','year'])['total_gdp'].sum().reset_index()\n",
        "sub_df.head()"
      ]
    },
    {
      "cell_type": "markdown",
      "id": "42929dff",
      "metadata": {
        "id": "42929dff"
      },
      "source": [
        "## Tendencias visuales por subregión"
      ]
    },
    {
      "cell_type": "code",
      "execution_count": 32,
      "id": "06df26c2",
      "metadata": {
        "id": "06df26c2",
        "colab": {
          "base_uri": "https://localhost:8080/",
          "height": 583
        },
        "outputId": "35280d44-9ed1-422c-9306-71238bc10064"
      },
      "outputs": [
        {
          "output_type": "display_data",
          "data": {
            "text/plain": [
              "<Figure size 1200x600 with 1 Axes>"
            ],
            "image/png": "[encoded data removed]"
          },
          "metadata": {}
        }
      ],
      "source": [
        "import matplotlib.pyplot as plt\n",
        "import seaborn as sns\n",
        "\n",
        "# Subregiones a mostrar\n",
        "selected_regions = [\n",
        "    'WESTERN EUROPE',\n",
        "    'EASTERN EUROPE',\n",
        "    'EASTERN ASIA',\n",
        "    'NORTHERN AMERICA'\n",
        "]\n",
        "\n",
        "# Filtrar solo esas regiones\n",
        "filtered_df = sub_df[sub_df['sub_region_name'].isin(selected_regions)]\n",
        "\n",
        "# Crear gráfico\n",
        "plt.figure(figsize=(12, 6))\n",
        "sns.lineplot(data=filtered_df, x='year', y='total_gdp', hue='sub_region_name', linewidth=2.5)\n",
        "\n",
        "# Título y etiquetas\n",
        "plt.title('PIB total por subregión (1960–2023)', fontsize=16)\n",
        "plt.xlabel('Año', fontsize=12)\n",
        "plt.ylabel('PIB total (USD)', fontsize=12)\n",
        "\n",
        "# Escala logarítmica opcional (descomenta si hay mucha diferencia)\n",
        "# plt.yscale('log')\n",
        "\n",
        "# Leyenda fuera del gráfico\n",
        "plt.legend(title='Subregión', bbox_to_anchor=(1.02, 1), loc='upper left')\n",
        "plt.grid(True, linestyle='--', alpha=0.5)\n",
        "plt.tight_layout()\n",
        "plt.show()\n"
      ]
    },
    {
      "cell_type": "markdown",
      "id": "5c9f8b81",
      "metadata": {
        "id": "5c9f8b81"
      },
      "source": [
        "## Regresión lineal por subregión (PIB ~ año) + Ranking"
      ]
    },
    {
      "cell_type": "code",
      "execution_count": 19,
      "id": "eaaff865",
      "metadata": {
        "id": "eaaff865",
        "colab": {
          "base_uri": "https://localhost:8080/",
          "height": 582
        },
        "outputId": "b010e690-3ac5-4232-fff3-9ff8d32f29fd"
      },
      "outputs": [
        {
          "output_type": "execute_result",
          "data": {
            "text/plain": [
              "                         sub_region           coef_year  \\\n",
              "0                  NORTHERN AMERICA 417,908,206,974.996   \n",
              "1                      EASTERN ASIA 366,388,717,609.021   \n",
              "2                    WESTERN EUROPE 181,649,037,706.349   \n",
              "3   LATIN AMERICA AND THE CARIBBEAN 106,273,794,617.060   \n",
              "4                   NORTHERN EUROPE  99,523,077,891.323   \n",
              "5                   SOUTHERN EUROPE  84,993,812,506.277   \n",
              "6                    EASTERN EUROPE  66,442,958,533.233   \n",
              "7                     SOUTHERN ASIA  65,746,135,531.976   \n",
              "8                      WESTERN ASIA  61,954,992,267.365   \n",
              "9                SOUTH-EASTERN ASIA  53,292,441,106.272   \n",
              "10               SUB-SAHARAN AFRICA  30,904,131,157.621   \n",
              "11        AUSTRALIA AND NEW ZEALAND  30,253,585,592.612   \n",
              "12                  NORTHERN AFRICA  14,741,716,087.957   \n",
              "13                     CENTRAL ASIA   5,983,333,552.981   \n",
              "14                        MELANESIA     708,408,570.922   \n",
              "15                        POLYNESIA     151,464,032.788   \n",
              "16                       MICRONESIA     149,549,120.762   \n",
              "\n",
              "                  intercept    r2               avg_gdp  final_year  \\\n",
              "0  -822,956,702,341,005.250 0.921 9,307,491,849,698.984        2023   \n",
              "1  -722,730,340,809,879.625 0.842 6,932,790,308,486.213        2023   \n",
              "2  -357,351,265,495,923.062 0.949 4,402,793,096,270.596        2023   \n",
              "3  -209,446,198,466,853.938 0.851 2,198,063,513,020.828        2023   \n",
              "4  -195,948,226,213,861.125 0.931 2,251,983,406,708.009        2023   \n",
              "5  -167,265,550,595,084.594 0.916 1,999,627,011,166.899        2023   \n",
              "6  -131,169,316,976,933.422 0.793 1,151,834,941,999.805        2023   \n",
              "7  -129,737,836,617,941.297 0.756 1,195,592,293,988.422        2023   \n",
              "8  -122,234,814,440,598.141 0.803 1,148,552,659,859.985        2023   \n",
              "9  -105,206,585,914,224.188 0.771   925,310,548,916.370        2023   \n",
              "10  -60,911,539,530,236.234 0.818   634,037,670,165.049        2023   \n",
              "11  -59,652,121,047,500.234 0.829   597,894,660,186.840        2023   \n",
              "12  -29,051,738,985,617.789 0.851   306,388,603,548.411        2023   \n",
              "13  -11,822,389,893,977.436 0.706    93,418,876,785.007        2023   \n",
              "14   -1,396,832,286,971.482 0.813    13,963,382,019.540        2023   \n",
              "15     -297,911,141,420.870 0.842     3,729,479,876.432        2023   \n",
              "16     -295,287,378,817.593 0.696     2,539,695,179.859        2023   \n",
              "\n",
              "                final_gdp  \n",
              "0  29,871,321,614,401.359  \n",
              "1  24,159,011,120,348.066  \n",
              "2  10,869,055,539,839.234  \n",
              "3   6,596,563,248,893.703  \n",
              "4   5,903,706,384,301.207  \n",
              "5   4,788,999,320,625.315  \n",
              "6   4,239,464,641,772.966  \n",
              "7   4,896,593,845,298.898  \n",
              "8   4,225,513,657,419.533  \n",
              "9   3,796,280,494,250.132  \n",
              "10  1,931,779,106,265.930  \n",
              "11  1,980,232,822,805.778  \n",
              "12    990,937,322,762.979  \n",
              "13    450,910,748,841.410  \n",
              "14     38,930,922,244.902  \n",
              "15      1,000,469,755.416  \n",
              "16      1,434,528,255.160  "
            ],
            "text/html": [
              "\n",
              "  <div id=\"df-e311375b-5d64-4175-8237-01cbf566c7cf\" class=\"colab-df-container\">\n",
              "    <div>\n",
              "<style scoped>\n",
              "    .dataframe tbody tr th:only-of-type {\n",
              "        vertical-align: middle;\n",
              "    }\n",
              "\n",
              "    .dataframe tbody tr th {\n",
              "        vertical-align: top;\n",
              "    }\n",
              "\n",
              "    .dataframe thead th {\n",
              "        text-align: right;\n",
              "    }\n",
              "</style>\n",
              "<table border=\"1\" class=\"dataframe\">\n",
              "  <thead>\n",
              "    <tr style=\"text-align: right;\">\n",
              "      <th></th>\n",
              "      <th>sub_region</th>\n",
              "      <th>coef_year</th>\n",
              "      <th>intercept</th>\n",
              "      <th>r2</th>\n",
              "      <th>avg_gdp</th>\n",
              "      <th>final_year</th>\n",
              "      <th>final_gdp</th>\n",
              "    </tr>\n",
              "  </thead>\n",
              "  <tbody>\n",
              "    <tr>\n",
              "      <th>0</th>\n",
              "      <td>NORTHERN AMERICA</td>\n",
              "      <td>417,908,206,974.996</td>\n",
              "      <td>-822,956,702,341,005.250</td>\n",
              "      <td>0.921</td>\n",
              "      <td>9,307,491,849,698.984</td>\n",
              "      <td>2023</td>\n",
              "      <td>29,871,321,614,401.359</td>\n",
              "    </tr>\n",
              "    <tr>\n",
              "      <th>1</th>\n",
              "      <td>EASTERN ASIA</td>\n",
              "      <td>366,388,717,609.021</td>\n",
              "      <td>-722,730,340,809,879.625</td>\n",
              "      <td>0.842</td>\n",
              "      <td>6,932,790,308,486.213</td>\n",
              "      <td>2023</td>\n",
              "      <td>24,159,011,120,348.066</td>\n",
              "    </tr>\n",
              "    <tr>\n",
              "      <th>2</th>\n",
              "      <td>WESTERN EUROPE</td>\n",
              "      <td>181,649,037,706.349</td>\n",
              "      <td>-357,351,265,495,923.062</td>\n",
              "      <td>0.949</td>\n",
              "      <td>4,402,793,096,270.596</td>\n",
              "      <td>2023</td>\n",
              "      <td>10,869,055,539,839.234</td>\n",
              "    </tr>\n",
              "    <tr>\n",
              "      <th>3</th>\n",
              "      <td>LATIN AMERICA AND THE CARIBBEAN</td>\n",
              "      <td>106,273,794,617.060</td>\n",
              "      <td>-209,446,198,466,853.938</td>\n",
              "      <td>0.851</td>\n",
              "      <td>2,198,063,513,020.828</td>\n",
              "      <td>2023</td>\n",
              "      <td>6,596,563,248,893.703</td>\n",
              "    </tr>\n",
              "    <tr>\n",
              "      <th>4</th>\n",
              "      <td>NORTHERN EUROPE</td>\n",
              "      <td>99,523,077,891.323</td>\n",
              "      <td>-195,948,226,213,861.125</td>\n",
              "      <td>0.931</td>\n",
              "      <td>2,251,983,406,708.009</td>\n",
              "      <td>2023</td>\n",
              "      <td>5,903,706,384,301.207</td>\n",
              "    </tr>\n",
              "    <tr>\n",
              "      <th>5</th>\n",
              "      <td>SOUTHERN EUROPE</td>\n",
              "      <td>84,993,812,506.277</td>\n",
              "      <td>-167,265,550,595,084.594</td>\n",
              "      <td>0.916</td>\n",
              "      <td>1,999,627,011,166.899</td>\n",
              "      <td>2023</td>\n",
              "      <td>4,788,999,320,625.315</td>\n",
              "    </tr>\n",
              "    <tr>\n",
              "      <th>6</th>\n",
              "      <td>EASTERN EUROPE</td>\n",
              "      <td>66,442,958,533.233</td>\n",
              "      <td>-131,169,316,976,933.422</td>\n",
              "      <td>0.793</td>\n",
              "      <td>1,151,834,941,999.805</td>\n",
              "      <td>2023</td>\n",
              "      <td>4,239,464,641,772.966</td>\n",
              "    </tr>\n",
              "    <tr>\n",
              "      <th>7</th>\n",
              "      <td>SOUTHERN ASIA</td>\n",
              "      <td>65,746,135,531.976</td>\n",
              "      <td>-129,737,836,617,941.297</td>\n",
              "      <td>0.756</td>\n",
              "      <td>1,195,592,293,988.422</td>\n",
              "      <td>2023</td>\n",
              "      <td>4,896,593,845,298.898</td>\n",
              "    </tr>\n",
              "    <tr>\n",
              "      <th>8</th>\n",
              "      <td>WESTERN ASIA</td>\n",
              "      <td>61,954,992,267.365</td>\n",
              "      <td>-122,234,814,440,598.141</td>\n",
              "      <td>0.803</td>\n",
              "      <td>1,148,552,659,859.985</td>\n",
              "      <td>2023</td>\n",
              "      <td>4,225,513,657,419.533</td>\n",
              "    </tr>\n",
              "    <tr>\n",
              "      <th>9</th>\n",
              "      <td>SOUTH-EASTERN ASIA</td>\n",
              "      <td>53,292,441,106.272</td>\n",
              "      <td>-105,206,585,914,224.188</td>\n",
              "      <td>0.771</td>\n",
              "      <td>925,310,548,916.370</td>\n",
              "      <td>2023</td>\n",
              "      <td>3,796,280,494,250.132</td>\n",
              "    </tr>\n",
              "    <tr>\n",
              "      <th>10</th>\n",
              "      <td>SUB-SAHARAN AFRICA</td>\n",
              "      <td>30,904,131,157.621</td>\n",
              "      <td>-60,911,539,530,236.234</td>\n",
              "      <td>0.818</td>\n",
              "      <td>634,037,670,165.049</td>\n",
              "      <td>2023</td>\n",
              "      <td>1,931,779,106,265.930</td>\n",
              "    </tr>\n",
              "    <tr>\n",
              "      <th>11</th>\n",
              "      <td>AUSTRALIA AND NEW ZEALAND</td>\n",
              "      <td>30,253,585,592.612</td>\n",
              "      <td>-59,652,121,047,500.234</td>\n",
              "      <td>0.829</td>\n",
              "      <td>597,894,660,186.840</td>\n",
              "      <td>2023</td>\n",
              "      <td>1,980,232,822,805.778</td>\n",
              "    </tr>\n",
              "    <tr>\n",
              "      <th>12</th>\n",
              "      <td>NORTHERN AFRICA</td>\n",
              "      <td>14,741,716,087.957</td>\n",
              "      <td>-29,051,738,985,617.789</td>\n",
              "      <td>0.851</td>\n",
              "      <td>306,388,603,548.411</td>\n",
              "      <td>2023</td>\n",
              "      <td>990,937,322,762.979</td>\n",
              "    </tr>\n",
              "    <tr>\n",
              "      <th>13</th>\n",
              "      <td>CENTRAL ASIA</td>\n",
              "      <td>5,983,333,552.981</td>\n",
              "      <td>-11,822,389,893,977.436</td>\n",
              "      <td>0.706</td>\n",
              "      <td>93,418,876,785.007</td>\n",
              "      <td>2023</td>\n",
              "      <td>450,910,748,841.410</td>\n",
              "    </tr>\n",
              "    <tr>\n",
              "      <th>14</th>\n",
              "      <td>MELANESIA</td>\n",
              "      <td>708,408,570.922</td>\n",
              "      <td>-1,396,832,286,971.482</td>\n",
              "      <td>0.813</td>\n",
              "      <td>13,963,382,019.540</td>\n",
              "      <td>2023</td>\n",
              "      <td>38,930,922,244.902</td>\n",
              "    </tr>\n",
              "    <tr>\n",
              "      <th>15</th>\n",
              "      <td>POLYNESIA</td>\n",
              "      <td>151,464,032.788</td>\n",
              "      <td>-297,911,141,420.870</td>\n",
              "      <td>0.842</td>\n",
              "      <td>3,729,479,876.432</td>\n",
              "      <td>2023</td>\n",
              "      <td>1,000,469,755.416</td>\n",
              "    </tr>\n",
              "    <tr>\n",
              "      <th>16</th>\n",
              "      <td>MICRONESIA</td>\n",
              "      <td>149,549,120.762</td>\n",
              "      <td>-295,287,378,817.593</td>\n",
              "      <td>0.696</td>\n",
              "      <td>2,539,695,179.859</td>\n",
              "      <td>2023</td>\n",
              "      <td>1,434,528,255.160</td>\n",
              "    </tr>\n",
              "  </tbody>\n",
              "</table>\n",
              "</div>\n",
              "    <div class=\"colab-df-buttons\">\n",
              "\n",
              "  <div class=\"colab-df-container\">\n",
              "    <button class=\"colab-df-convert\" onclick=\"convertToInteractive('df-e311375b-5d64-4175-8237-01cbf566c7cf')\"\n",
              "            title=\"Convert this dataframe to an interactive table.\"\n",
              "            style=\"display:none;\">\n",
              "\n",
              "  <svg xmlns=\"http://www.w3.org/2000/svg\" height=\"24px\" viewBox=\"0 -960 960 960\">\n",
              "    <path d=\"M120-120v-720h720v720H120Zm60-500h600v-160H180v160Zm220 220h160v-160H400v160Zm0 220h160v-160H400v160ZM180-400h160v-160H180v160Zm440 0h160v-160H620v160ZM180-180h160v-160H180v160Zm440 0h160v-160H620v160Z\"/>\n",
              "  </svg>\n",
              "    </button>\n",
              "\n",
              "  <style>\n",
              "    .colab-df-container {\n",
              "      display:flex;\n",
              "      gap: 12px;\n",
              "    }\n",
              "\n",
              "    .colab-df-convert {\n",
              "      background-color: #E8F0FE;\n",
              "      border: none;\n",
              "      border-radius: 50%;\n",
              "      cursor: pointer;\n",
              "      display: none;\n",
              "      fill: #1967D2;\n",
              "      height: 32px;\n",
              "      padding: 0 0 0 0;\n",
              "      width: 32px;\n",
              "    }\n",
              "\n",
              "    .colab-df-convert:hover {\n",
              "      background-color: #E2EBFA;\n",
              "      box-shadow: 0px 1px 2px rgba(60, 64, 67, 0.3), 0px 1px 3px 1px rgba(60, 64, 67, 0.15);\n",
              "      fill: #174EA6;\n",
              "    }\n",
              "\n",
              "    .colab-df-buttons div {\n",
              "      margin-bottom: 4px;\n",
              "    }\n",
              "\n",
              "    [theme=dark] .colab-df-convert {\n",
              "      background-color: #3B4455;\n",
              "      fill: #D2E3FC;\n",
              "    }\n",
              "\n",
              "    [theme=dark] .colab-df-convert:hover {\n",
              "      background-color: #434B5C;\n",
              "      box-shadow: 0px 1px 3px 1px rgba(0, 0, 0, 0.15);\n",
              "      filter: drop-shadow(0px 1px 2px rgba(0, 0, 0, 0.3));\n",
              "      fill: #FFFFFF;\n",
              "    }\n",
              "  </style>\n",
              "\n",
              "    <script>\n",
              "      const buttonEl =\n",
              "        document.querySelector('#df-e311375b-5d64-4175-8237-01cbf566c7cf button.colab-df-convert');\n",
              "      buttonEl.style.display =\n",
              "        google.colab.kernel.accessAllowed ? 'block' : 'none';\n",
              "\n",
              "      async function convertToInteractive(key) {\n",
              "        const element = document.querySelector('#df-e311375b-5d64-4175-8237-01cbf566c7cf');\n",
              "        const dataTable =\n",
              "          await google.colab.kernel.invokeFunction('convertToInteractive',\n",
              "                                                    [key], {});\n",
              "        if (!dataTable) return;\n",
              "\n",
              "        const docLinkHtml = 'Like what you see? Visit the ' +\n",
              "          '<a target=\"_blank\" href=https://colab.research.google.com/notebooks/data_table.ipynb>data table notebook</a>'\n",
              "          + ' to learn more about interactive tables.';\n",
              "        element.innerHTML = '';\n",
              "        dataTable['output_type'] = 'display_data';\n",
              "        await google.colab.output.renderOutput(dataTable, element);\n",
              "        const docLink = document.createElement('div');\n",
              "        docLink.innerHTML = docLinkHtml;\n",
              "        element.appendChild(docLink);\n",
              "      }\n",
              "    </script>\n",
              "  </div>\n",
              "\n",
              "\n",
              "    <div id=\"df-3ed65178-10b8-449f-9c68-4247f692df59\">\n",
              "      <button class=\"colab-df-quickchart\" onclick=\"quickchart('df-3ed65178-10b8-449f-9c68-4247f692df59')\"\n",
              "                title=\"Suggest charts\"\n",
              "                style=\"display:none;\">\n",
              "\n",
              "<svg xmlns=\"http://www.w3.org/2000/svg\" height=\"24px\"viewBox=\"0 0 24 24\"\n",
              "     width=\"24px\">\n",
              "    <g>\n",
              "        <path d=\"M19 3H5c-1.1 0-2 .9-2 2v14c0 1.1.9 2 2 2h14c1.1 0 2-.9 2-2V5c0-1.1-.9-2-2-2zM9 17H7v-7h2v7zm4 0h-2V7h2v10zm4 0h-2v-4h2v4z\"/>\n",
              "    </g>\n",
              "</svg>\n",
              "      </button>\n",
              "\n",
              "<style>\n",
              "  .colab-df-quickchart {\n",
              "      --bg-color: #E8F0FE;\n",
              "      --fill-color: #1967D2;\n",
              "      --hover-bg-color: #E2EBFA;\n",
              "      --hover-fill-color: #174EA6;\n",
              "      --disabled-fill-color: #AAA;\n",
              "      --disabled-bg-color: #DDD;\n",
              "  }\n",
              "\n",
              "  [theme=dark] .colab-df-quickchart {\n",
              "      --bg-color: #3B4455;\n",
              "      --fill-color: #D2E3FC;\n",
              "      --hover-bg-color: #434B5C;\n",
              "      --hover-fill-color: #FFFFFF;\n",
              "      --disabled-bg-color: #3B4455;\n",
              "      --disabled-fill-color: #666;\n",
              "  }\n",
              "\n",
              "  .colab-df-quickchart {\n",
              "    background-color: var(--bg-color);\n",
              "    border: none;\n",
              "    border-radius: 50%;\n",
              "    cursor: pointer;\n",
              "    display: none;\n",
              "    fill: var(--fill-color);\n",
              "    height: 32px;\n",
              "    padding: 0;\n",
              "    width: 32px;\n",
              "  }\n",
              "\n",
              "  .colab-df-quickchart:hover {\n",
              "    background-color: var(--hover-bg-color);\n",
              "    box-shadow: 0 1px 2px rgba(60, 64, 67, 0.3), 0 1px 3px 1px rgba(60, 64, 67, 0.15);\n",
              "    fill: var(--button-hover-fill-color);\n",
              "  }\n",
              "\n",
              "  .colab-df-quickchart-complete:disabled,\n",
              "  .colab-df-quickchart-complete:disabled:hover {\n",
              "    background-color: var(--disabled-bg-color);\n",
              "    fill: var(--disabled-fill-color);\n",
              "    box-shadow: none;\n",
              "  }\n",
              "\n",
              "  .colab-df-spinner {\n",
              "    border: 2px solid var(--fill-color);\n",
              "    border-color: transparent;\n",
              "    border-bottom-color: var(--fill-color);\n",
              "    animation:\n",
              "      spin 1s steps(1) infinite;\n",
              "  }\n",
              "\n",
              "  @keyframes spin {\n",
              "    0% {\n",
              "      border-color: transparent;\n",
              "      border-bottom-color: var(--fill-color);\n",
              "      border-left-color: var(--fill-color);\n",
              "    }\n",
              "    20% {\n",
              "      border-color: transparent;\n",
              "      border-left-color: var(--fill-color);\n",
              "      border-top-color: var(--fill-color);\n",
              "    }\n",
              "    30% {\n",
              "      border-color: transparent;\n",
              "      border-left-color: var(--fill-color);\n",
              "      border-top-color: var(--fill-color);\n",
              "      border-right-color: var(--fill-color);\n",
              "    }\n",
              "    40% {\n",
              "      border-color: transparent;\n",
              "      border-right-color: var(--fill-color);\n",
              "      border-top-color: var(--fill-color);\n",
              "    }\n",
              "    60% {\n",
              "      border-color: transparent;\n",
              "      border-right-color: var(--fill-color);\n",
              "    }\n",
              "    80% {\n",
              "      border-color: transparent;\n",
              "      border-right-color: var(--fill-color);\n",
              "      border-bottom-color: var(--fill-color);\n",
              "    }\n",
              "    90% {\n",
              "      border-color: transparent;\n",
              "      border-bottom-color: var(--fill-color);\n",
              "    }\n",
              "  }\n",
              "</style>\n",
              "\n",
              "      <script>\n",
              "        async function quickchart(key) {\n",
              "          const quickchartButtonEl =\n",
              "            document.querySelector('#' + key + ' button');\n",
              "          quickchartButtonEl.disabled = true;  // To prevent multiple clicks.\n",
              "          quickchartButtonEl.classList.add('colab-df-spinner');\n",
              "          try {\n",
              "            const charts = await google.colab.kernel.invokeFunction(\n",
              "                'suggestCharts', [key], {});\n",
              "          } catch (error) {\n",
              "            console.error('Error during call to suggestCharts:', error);\n",
              "          }\n",
              "          quickchartButtonEl.classList.remove('colab-df-spinner');\n",
              "          quickchartButtonEl.classList.add('colab-df-quickchart-complete');\n",
              "        }\n",
              "        (() => {\n",
              "          let quickchartButtonEl =\n",
              "            document.querySelector('#df-3ed65178-10b8-449f-9c68-4247f692df59 button');\n",
              "          quickchartButtonEl.style.display =\n",
              "            google.colab.kernel.accessAllowed ? 'block' : 'none';\n",
              "        })();\n",
              "      </script>\n",
              "    </div>\n",
              "\n",
              "  <div id=\"id_0be12d88-8f0c-4cbc-a3a5-a00c6d9eef9b\">\n",
              "    <style>\n",
              "      .colab-df-generate {\n",
              "        background-color: #E8F0FE;\n",
              "        border: none;\n",
              "        border-radius: 50%;\n",
              "        cursor: pointer;\n",
              "        display: none;\n",
              "        fill: #1967D2;\n",
              "        height: 32px;\n",
              "        padding: 0 0 0 0;\n",
              "        width: 32px;\n",
              "      }\n",
              "\n",
              "      .colab-df-generate:hover {\n",
              "        background-color: #E2EBFA;\n",
              "        box-shadow: 0px 1px 2px rgba(60, 64, 67, 0.3), 0px 1px 3px 1px rgba(60, 64, 67, 0.15);\n",
              "        fill: #174EA6;\n",
              "      }\n",
              "\n",
              "      [theme=dark] .colab-df-generate {\n",
              "        background-color: #3B4455;\n",
              "        fill: #D2E3FC;\n",
              "      }\n",
              "\n",
              "      [theme=dark] .colab-df-generate:hover {\n",
              "        background-color: #434B5C;\n",
              "        box-shadow: 0px 1px 3px 1px rgba(0, 0, 0, 0.15);\n",
              "        filter: drop-shadow(0px 1px 2px rgba(0, 0, 0, 0.3));\n",
              "        fill: #FFFFFF;\n",
              "      }\n",
              "    </style>\n",
              "    <button class=\"colab-df-generate\" onclick=\"generateWithVariable('results_df')\"\n",
              "            title=\"Generate code using this dataframe.\"\n",
              "            style=\"display:none;\">\n",
              "\n",
              "  <svg xmlns=\"http://www.w3.org/2000/svg\" height=\"24px\"viewBox=\"0 0 24 24\"\n",
              "       width=\"24px\">\n",
              "    <path d=\"M7,19H8.4L18.45,9,17,7.55,7,17.6ZM5,21V16.75L18.45,3.32a2,2,0,0,1,2.83,0l1.4,1.43a1.91,1.91,0,0,1,.58,1.4,1.91,1.91,0,0,1-.58,1.4L9.25,21ZM18.45,9,17,7.55Zm-12,3A5.31,5.31,0,0,0,4.9,8.1,5.31,5.31,0,0,0,1,6.5,5.31,5.31,0,0,0,4.9,4.9,5.31,5.31,0,0,0,6.5,1,5.31,5.31,0,0,0,8.1,4.9,5.31,5.31,0,0,0,12,6.5,5.46,5.46,0,0,0,6.5,12Z\"/>\n",
              "  </svg>\n",
              "    </button>\n",
              "    <script>\n",
              "      (() => {\n",
              "      const buttonEl =\n",
              "        document.querySelector('#id_0be12d88-8f0c-4cbc-a3a5-a00c6d9eef9b button.colab-df-generate');\n",
              "      buttonEl.style.display =\n",
              "        google.colab.kernel.accessAllowed ? 'block' : 'none';\n",
              "\n",
              "      buttonEl.onclick = () => {\n",
              "        google.colab.notebook.generateWithVariable('results_df');\n",
              "      }\n",
              "      })();\n",
              "    </script>\n",
              "  </div>\n",
              "\n",
              "    </div>\n",
              "  </div>\n"
            ],
            "application/vnd.google.colaboratory.intrinsic+json": {
              "type": "dataframe",
              "variable_name": "results_df",
              "summary": "{\n  \"name\": \"results_df\",\n  \"rows\": 17,\n  \"fields\": [\n    {\n      \"column\": \"sub_region\",\n      \"properties\": {\n        \"dtype\": \"string\",\n        \"num_unique_values\": 17,\n        \"samples\": [\n          \"NORTHERN AMERICA\",\n          \"EASTERN ASIA\",\n          \"SOUTHERN EUROPE\"\n        ],\n        \"semantic_type\": \"\",\n        \"description\": \"\"\n      }\n    },\n    {\n      \"column\": \"coef_year\",\n      \"properties\": {\n        \"dtype\": \"number\",\n        \"std\": 122393744899.18935,\n        \"min\": 149549120.76196444,\n        \"max\": 417908206974.99585,\n        \"num_unique_values\": 17,\n        \"samples\": [\n          417908206974.99585,\n          366388717609.0213,\n          84993812506.27744\n        ],\n        \"semantic_type\": \"\",\n        \"description\": \"\"\n      }\n    },\n    {\n      \"column\": \"intercept\",\n      \"properties\": {\n        \"dtype\": \"number\",\n        \"std\": 241153589553213.78,\n        \"min\": -822956702341005.2,\n        \"max\": -295287378817.59344,\n        \"num_unique_values\": 17,\n        \"samples\": [\n          -822956702341005.2,\n          -722730340809879.6,\n          -167265550595084.6\n        ],\n        \"semantic_type\": \"\",\n        \"description\": \"\"\n      }\n    },\n    {\n      \"column\": \"r2\",\n      \"properties\": {\n        \"dtype\": \"number\",\n        \"std\": 0.07337153341708713,\n        \"min\": 0.6956684663139765,\n        \"max\": 0.9485216029549369,\n        \"num_unique_values\": 17,\n        \"samples\": [\n          0.9212016465174719,\n          0.8424347831440101,\n          0.9157860445238998\n        ],\n        \"semantic_type\": \"\",\n        \"description\": \"\"\n      }\n    },\n    {\n      \"column\": \"avg_gdp\",\n      \"properties\": {\n        \"dtype\": \"number\",\n        \"std\": 2610889066793.1367,\n        \"min\": 2539695179.8587656,\n        \"max\": 9307491849698.984,\n        \"num_unique_values\": 17,\n        \"samples\": [\n          9307491849698.984,\n          6932790308486.213,\n          1999627011166.899\n        ],\n        \"semantic_type\": \"\",\n        \"description\": \"\"\n      }\n    },\n    {\n      \"column\": \"final_year\",\n      \"properties\": {\n        \"dtype\": \"number\",\n        \"std\": 0,\n        \"min\": 2023,\n        \"max\": 2023,\n        \"num_unique_values\": 1,\n        \"samples\": [\n          2023\n        ],\n        \"semantic_type\": \"\",\n        \"description\": \"\"\n      }\n    },\n    {\n      \"column\": \"final_gdp\",\n      \"properties\": {\n        \"dtype\": \"number\",\n        \"std\": 8415410828849.454,\n        \"min\": 1000469755.4156102,\n        \"max\": 29871321614401.36,\n        \"num_unique_values\": 17,\n        \"samples\": [\n          29871321614401.36\n        ],\n        \"semantic_type\": \"\",\n        \"description\": \"\"\n      }\n    }\n  ]\n}"
            }
          },
          "metadata": {},
          "execution_count": 19
        }
      ],
      "source": [
        "results = []\n",
        "models = {}\n",
        "\n",
        "for region, data_region in sub_df.groupby('sub_region_name'):\n",
        "    X = data_region[['year']]\n",
        "    y = data_region['total_gdp']\n",
        "    lr = LinearRegression()\n",
        "    lr.fit(X, y)\n",
        "    y_pred = lr.predict(X)\n",
        "    r2 = r2_score(y, y_pred)\n",
        "    coef = lr.coef_[0]\n",
        "    intercept = lr.intercept_\n",
        "\n",
        "    results.append({\n",
        "        'sub_region': region,\n",
        "        'coef_year': coef,\n",
        "        'intercept': intercept,\n",
        "        'r2': r2,\n",
        "        'avg_gdp': y.mean(),\n",
        "        'final_year': int(data_region['year'].iloc[-1]),\n",
        "        'final_gdp': y.iloc[-1]\n",
        "    })\n",
        "    models[region] = {'lr': lr, 'data': data_region, 'y_pred': y_pred}\n",
        "\n",
        "results_df = pd.DataFrame(results).sort_values('coef_year', ascending=False).reset_index(drop=True)\n",
        "results_df"
      ]
    },
    {
      "cell_type": "markdown",
      "id": "fa7ec923",
      "metadata": {
        "id": "fa7ec923"
      },
      "source": [
        "#Datos del analisis"
      ]
    },
    {
      "cell_type": "code",
      "execution_count": 20,
      "id": "e2fbaeb8",
      "metadata": {
        "id": "e2fbaeb8",
        "colab": {
          "base_uri": "https://localhost:8080/"
        },
        "outputId": "b57ba424-f710-4dd5-c851-744bdeb13b0e"
      },
      "outputs": [
        {
          "output_type": "stream",
          "name": "stdout",
          "text": [
            "• Subregión con **mayor crecimiento anual estimado**: NORTHERN AMERICA (coef_year = 4.179e+11 USD/año, R² = 0.921).\n",
            "• Subregión con **menor crecimiento**: MICRONESIA (coef_year = 1.495e+08 USD/año, R² = 0.696).\n",
            "• Subregión con **mejor ajuste lineal** (patrón más estable): WESTERN EUROPE (R² = 0.949, coef_year = 1.816e+11).\n"
          ]
        }
      ],
      "source": [
        "top_growth = results_df.iloc[0]\n",
        "low_growth = results_df.iloc[-1]\n",
        "best_fit = results_df.sort_values('r2', ascending=False).iloc[0]\n",
        "\n",
        "print(f\"• Subregión con **mayor crecimiento anual estimado**: {top_growth['sub_region']} \"\n",
        "      f\"(coef_year = {top_growth['coef_year']:.3e} USD/año, R² = {top_growth['r2']:.3f}).\")\n",
        "\n",
        "print(f\"• Subregión con **menor crecimiento**: {low_growth['sub_region']} \"\n",
        "      f\"(coef_year = {low_growth['coef_year']:.3e} USD/año, R² = {low_growth['r2']:.3f}).\")\n",
        "\n",
        "print(f\"• Subregión con **mejor ajuste lineal** (patrón más estable): {best_fit['sub_region']} \"\n",
        "      f\"(R² = {best_fit['r2']:.3f}, coef_year = {best_fit['coef_year']:.3e}).\")"
      ]
    },
    {
      "cell_type": "markdown",
      "id": "449c1181",
      "metadata": {
        "id": "449c1181"
      },
      "source": [
        "## Gráficos de ajuste lineal por subregión\n",
        "\n",
        "Se muestran el PIB observado (puntos/líneas) y la **recta estimada** por la regresión lineal (`total_gdp ~ year`)."
      ]
    },
    {
      "cell_type": "code",
      "execution_count": 37,
      "id": "0d51e0e3",
      "metadata": {
        "id": "0d51e0e3",
        "colab": {
          "base_uri": "https://localhost:8080/",
          "height": 583
        },
        "outputId": "d7ef0f34-8329-4bb1-cc18-3e32a1266045"
      },
      "outputs": [
        {
          "output_type": "display_data",
          "data": {
            "text/plain": [
              "<Figure size 1000x600 with 1 Axes>"
            ],
            "image/png": "[encoded data removed]"
          },
          "metadata": {}
        }
      ],
      "source": [
        "import matplotlib.pyplot as plt\n",
        "\n",
        "# Región a graficar (elige una de la lista que diste)\n",
        "region = 'LATIN AMERICA AND THE CARIBBEAN'\n",
        "\n",
        "# Obtener los datos y modelo de la región\n",
        "reg = models[region]\n",
        "d = reg['data'].copy()\n",
        "y_pred = reg['y_pred']\n",
        "\n",
        "# Añadir la predicción al DataFrame\n",
        "d['y_pred'] = y_pred\n",
        "\n",
        "# Crear gráfico\n",
        "fig, ax = plt.subplots(figsize=(10, 6))\n",
        "\n",
        "# Graficar los datos reales\n",
        "ax.plot(d['year'], d['total_gdp'], label='PIB Real', marker='o')\n",
        "\n",
        "# Graficar la predicción lineal\n",
        "ax.plot(d['year'], d['y_pred'], label='Regresión Lineal', linestyle='--', linewidth=2, color='orange')\n",
        "\n",
        "# Mejorar visualmente el gráfico\n",
        "ax.set_title(f'Evolución del PIB - {region}', fontsize=14)\n",
        "ax.set_xlabel('Año')\n",
        "ax.set_ylabel('PIB (USD)')\n",
        "ax.legend()\n",
        "ax.grid(True)\n",
        "\n",
        "# Mostrar R² dentro del gráfico (arriba a la izquierda)\n",
        "ax.text(0.05, 0.95, f'R² = {r2:.3f}', transform=ax.transAxes,\n",
        "        fontsize=12, verticalalignment='top', bbox=dict(boxstyle='round', facecolor='white', alpha=0.8))\n",
        "\n",
        "plt.tight_layout()\n",
        "plt.show()\n",
        "\n",
        "\n"
      ]
    },
    {
      "cell_type": "markdown",
      "id": "313178e8",
      "metadata": {
        "id": "313178e8"
      },
      "source": [
        "## Lista de subregiones\n",
        "\n",
        "    AUSTRALIA AND NEW ZEALAND\n",
        "    CENTRAL ASIA\n",
        "    EASTERN ASIA\n",
        "    EASTERN EUROPE\n",
        "    LATIN AMERICA AND THE CARIBBEAN\n",
        "    MELANESIA\n",
        "    MICRONESIA\n",
        "    NORTHERN AFRICA\n",
        "    NORTHERN AMERICA\n",
        "    NORTHERN EUROPE\n",
        "    POLYNESIA\n",
        "    SOUTH-EASTERN ASIA\n",
        "    SOUTHERN ASIA\n",
        "    SOUTHERN EUROPE\n",
        "    SUB-SAHARAN AFRICA\n",
        "    WESTERN ASIA\n",
        "    WESTERN EUROPE\n"
      ]
    }
  ],
  "metadata": {
    "colab": {
      "provenance": []
    },
    "kernelspec": {
      "display_name": "Python 3",
      "name": "python3"
    },
    "language_info": {
      "name": "python"
    }
  },
  "nbformat": 4,
  "nbformat_minor": 5
}